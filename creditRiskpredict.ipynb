{
 "cells": [
  {
   "cell_type": "code",
   "execution_count": 53,
   "metadata": {},
   "outputs": [
    {
     "name": "stderr",
     "output_type": "stream",
     "text": [
      "C:\\Users\\User\\Anaconda3\\lib\\site-packages\\IPython\\core\\interactiveshell.py:2785: DtypeWarning: Columns (0,47) have mixed types. Specify dtype option on import or set low_memory=False.\n",
      "  interactivity=interactivity, compiler=compiler, result=result)\n"
     ]
    },
    {
     "name": "stdout",
     "output_type": "stream",
     "text": [
      "The loan dataset has 42542 samples with 111 features.\n"
     ]
    }
   ],
   "source": [
    "import numpy as np\n",
    "import pandas as pd\n",
    "import matplotlib.pyplot as plt\n",
    "from IPython.display import display # Allows the use of display() for DataFrames\n",
    "import chardet\n",
    "with open('D:\\\\Documents\\\\loan_dataset.csv', 'rb') as f:\n",
    "    result = chardet.detect(f.read())\n",
    "\n",
    "loan_dataset = pd.read_csv(\"D:\\\\Documents\\\\loan_dataset.csv\",encoding=result['encoding'],skiprows=1)\n",
    "print(\"The loan dataset has {} samples with {} features.\".format(*loan_dataset.shape))"
   ]
  },
  {
   "cell_type": "code",
   "execution_count": 54,
   "metadata": {},
   "outputs": [],
   "source": [
    "from sklearn.model_selection import train_test_split\n",
    "\n",
    "train, test = train_test_split(loan_dataset, test_size=0.2)"
   ]
  },
  {
   "cell_type": "code",
   "execution_count": 55,
   "metadata": {},
   "outputs": [
    {
     "data": {
      "text/html": [
       "<div>\n",
       "<style scoped>\n",
       "    .dataframe tbody tr th:only-of-type {\n",
       "        vertical-align: middle;\n",
       "    }\n",
       "\n",
       "    .dataframe tbody tr th {\n",
       "        vertical-align: top;\n",
       "    }\n",
       "\n",
       "    .dataframe thead th {\n",
       "        text-align: right;\n",
       "    }\n",
       "</style>\n",
       "<table border=\"1\" class=\"dataframe\">\n",
       "  <thead>\n",
       "    <tr style=\"text-align: right;\">\n",
       "      <th></th>\n",
       "      <th>id</th>\n",
       "      <th>member_id</th>\n",
       "      <th>loan_amnt</th>\n",
       "      <th>funded_amnt</th>\n",
       "      <th>funded_amnt_inv</th>\n",
       "      <th>term</th>\n",
       "      <th>int_rate</th>\n",
       "      <th>installment</th>\n",
       "      <th>grade</th>\n",
       "      <th>sub_grade</th>\n",
       "      <th>...</th>\n",
       "      <th>num_tl_90g_dpd_24m</th>\n",
       "      <th>num_tl_op_past_12m</th>\n",
       "      <th>pct_tl_nvr_dlq</th>\n",
       "      <th>percent_bc_gt_75</th>\n",
       "      <th>pub_rec_bankruptcies</th>\n",
       "      <th>tax_liens</th>\n",
       "      <th>tot_hi_cred_lim</th>\n",
       "      <th>total_bal_ex_mort</th>\n",
       "      <th>total_bc_limit</th>\n",
       "      <th>total_il_high_credit_limit</th>\n",
       "    </tr>\n",
       "  </thead>\n",
       "  <tbody>\n",
       "    <tr>\n",
       "      <th>10350</th>\n",
       "      <td>833971</td>\n",
       "      <td>1043707.0</td>\n",
       "      <td>35000.0</td>\n",
       "      <td>35000.0</td>\n",
       "      <td>34975.00</td>\n",
       "      <td>60 months</td>\n",
       "      <td>18.39%</td>\n",
       "      <td>896.22</td>\n",
       "      <td>E</td>\n",
       "      <td>E2</td>\n",
       "      <td>...</td>\n",
       "      <td>NaN</td>\n",
       "      <td>NaN</td>\n",
       "      <td>NaN</td>\n",
       "      <td>NaN</td>\n",
       "      <td>0.0</td>\n",
       "      <td>0.0</td>\n",
       "      <td>NaN</td>\n",
       "      <td>NaN</td>\n",
       "      <td>NaN</td>\n",
       "      <td>NaN</td>\n",
       "    </tr>\n",
       "    <tr>\n",
       "      <th>20619</th>\n",
       "      <td>657172</td>\n",
       "      <td>840459.0</td>\n",
       "      <td>13250.0</td>\n",
       "      <td>13250.0</td>\n",
       "      <td>13250.00</td>\n",
       "      <td>60 months</td>\n",
       "      <td>13.43%</td>\n",
       "      <td>304.41</td>\n",
       "      <td>C</td>\n",
       "      <td>C3</td>\n",
       "      <td>...</td>\n",
       "      <td>NaN</td>\n",
       "      <td>NaN</td>\n",
       "      <td>NaN</td>\n",
       "      <td>NaN</td>\n",
       "      <td>0.0</td>\n",
       "      <td>0.0</td>\n",
       "      <td>NaN</td>\n",
       "      <td>NaN</td>\n",
       "      <td>NaN</td>\n",
       "      <td>NaN</td>\n",
       "    </tr>\n",
       "    <tr>\n",
       "      <th>32062</th>\n",
       "      <td>486993</td>\n",
       "      <td>620731.0</td>\n",
       "      <td>17000.0</td>\n",
       "      <td>17000.0</td>\n",
       "      <td>14875.00</td>\n",
       "      <td>36 months</td>\n",
       "      <td>9.88%</td>\n",
       "      <td>547.58</td>\n",
       "      <td>B</td>\n",
       "      <td>B1</td>\n",
       "      <td>...</td>\n",
       "      <td>NaN</td>\n",
       "      <td>NaN</td>\n",
       "      <td>NaN</td>\n",
       "      <td>NaN</td>\n",
       "      <td>0.0</td>\n",
       "      <td>0.0</td>\n",
       "      <td>NaN</td>\n",
       "      <td>NaN</td>\n",
       "      <td>NaN</td>\n",
       "      <td>NaN</td>\n",
       "    </tr>\n",
       "    <tr>\n",
       "      <th>3796</th>\n",
       "      <td>1012777</td>\n",
       "      <td>1239930.0</td>\n",
       "      <td>12000.0</td>\n",
       "      <td>12000.0</td>\n",
       "      <td>12000.00</td>\n",
       "      <td>36 months</td>\n",
       "      <td>11.71%</td>\n",
       "      <td>396.92</td>\n",
       "      <td>B</td>\n",
       "      <td>B3</td>\n",
       "      <td>...</td>\n",
       "      <td>NaN</td>\n",
       "      <td>NaN</td>\n",
       "      <td>NaN</td>\n",
       "      <td>NaN</td>\n",
       "      <td>0.0</td>\n",
       "      <td>0.0</td>\n",
       "      <td>NaN</td>\n",
       "      <td>NaN</td>\n",
       "      <td>NaN</td>\n",
       "      <td>NaN</td>\n",
       "    </tr>\n",
       "    <tr>\n",
       "      <th>39958</th>\n",
       "      <td>605634</td>\n",
       "      <td>776945.0</td>\n",
       "      <td>12000.0</td>\n",
       "      <td>12000.0</td>\n",
       "      <td>11782.13</td>\n",
       "      <td>36 months</td>\n",
       "      <td>9.25%</td>\n",
       "      <td>383.00</td>\n",
       "      <td>B</td>\n",
       "      <td>B2</td>\n",
       "      <td>...</td>\n",
       "      <td>NaN</td>\n",
       "      <td>NaN</td>\n",
       "      <td>NaN</td>\n",
       "      <td>NaN</td>\n",
       "      <td>0.0</td>\n",
       "      <td>0.0</td>\n",
       "      <td>NaN</td>\n",
       "      <td>NaN</td>\n",
       "      <td>NaN</td>\n",
       "      <td>NaN</td>\n",
       "    </tr>\n",
       "  </tbody>\n",
       "</table>\n",
       "<p>5 rows × 111 columns</p>\n",
       "</div>"
      ],
      "text/plain": [
       "            id  member_id  loan_amnt  funded_amnt  funded_amnt_inv  \\\n",
       "10350   833971  1043707.0    35000.0      35000.0         34975.00   \n",
       "20619   657172   840459.0    13250.0      13250.0         13250.00   \n",
       "32062   486993   620731.0    17000.0      17000.0         14875.00   \n",
       "3796   1012777  1239930.0    12000.0      12000.0         12000.00   \n",
       "39958   605634   776945.0    12000.0      12000.0         11782.13   \n",
       "\n",
       "             term int_rate  installment grade sub_grade  \\\n",
       "10350   60 months   18.39%       896.22     E        E2   \n",
       "20619   60 months   13.43%       304.41     C        C3   \n",
       "32062   36 months    9.88%       547.58     B        B1   \n",
       "3796    36 months   11.71%       396.92     B        B3   \n",
       "39958   36 months    9.25%       383.00     B        B2   \n",
       "\n",
       "                 ...             num_tl_90g_dpd_24m num_tl_op_past_12m  \\\n",
       "10350            ...                            NaN                NaN   \n",
       "20619            ...                            NaN                NaN   \n",
       "32062            ...                            NaN                NaN   \n",
       "3796             ...                            NaN                NaN   \n",
       "39958            ...                            NaN                NaN   \n",
       "\n",
       "      pct_tl_nvr_dlq  percent_bc_gt_75 pub_rec_bankruptcies tax_liens  \\\n",
       "10350            NaN               NaN                  0.0       0.0   \n",
       "20619            NaN               NaN                  0.0       0.0   \n",
       "32062            NaN               NaN                  0.0       0.0   \n",
       "3796             NaN               NaN                  0.0       0.0   \n",
       "39958            NaN               NaN                  0.0       0.0   \n",
       "\n",
       "      tot_hi_cred_lim total_bal_ex_mort total_bc_limit  \\\n",
       "10350             NaN               NaN            NaN   \n",
       "20619             NaN               NaN            NaN   \n",
       "32062             NaN               NaN            NaN   \n",
       "3796              NaN               NaN            NaN   \n",
       "39958             NaN               NaN            NaN   \n",
       "\n",
       "      total_il_high_credit_limit  \n",
       "10350                        NaN  \n",
       "20619                        NaN  \n",
       "32062                        NaN  \n",
       "3796                         NaN  \n",
       "39958                        NaN  \n",
       "\n",
       "[5 rows x 111 columns]"
      ]
     },
     "execution_count": 55,
     "metadata": {},
     "output_type": "execute_result"
    }
   ],
   "source": [
    "test.head()"
   ]
  },
  {
   "cell_type": "code",
   "execution_count": 56,
   "metadata": {},
   "outputs": [
    {
     "data": {
      "text/html": [
       "<div>\n",
       "<style scoped>\n",
       "    .dataframe tbody tr th:only-of-type {\n",
       "        vertical-align: middle;\n",
       "    }\n",
       "\n",
       "    .dataframe tbody tr th {\n",
       "        vertical-align: top;\n",
       "    }\n",
       "\n",
       "    .dataframe thead th {\n",
       "        text-align: right;\n",
       "    }\n",
       "</style>\n",
       "<table border=\"1\" class=\"dataframe\">\n",
       "  <thead>\n",
       "    <tr style=\"text-align: right;\">\n",
       "      <th></th>\n",
       "      <th>id</th>\n",
       "      <th>member_id</th>\n",
       "      <th>loan_amnt</th>\n",
       "      <th>funded_amnt</th>\n",
       "      <th>funded_amnt_inv</th>\n",
       "      <th>term</th>\n",
       "      <th>int_rate</th>\n",
       "      <th>installment</th>\n",
       "      <th>grade</th>\n",
       "      <th>sub_grade</th>\n",
       "      <th>...</th>\n",
       "      <th>num_tl_90g_dpd_24m</th>\n",
       "      <th>num_tl_op_past_12m</th>\n",
       "      <th>pct_tl_nvr_dlq</th>\n",
       "      <th>percent_bc_gt_75</th>\n",
       "      <th>pub_rec_bankruptcies</th>\n",
       "      <th>tax_liens</th>\n",
       "      <th>tot_hi_cred_lim</th>\n",
       "      <th>total_bal_ex_mort</th>\n",
       "      <th>total_bc_limit</th>\n",
       "      <th>total_il_high_credit_limit</th>\n",
       "    </tr>\n",
       "  </thead>\n",
       "  <tbody>\n",
       "    <tr>\n",
       "      <th>17098</th>\n",
       "      <td>722110</td>\n",
       "      <td>916893.0</td>\n",
       "      <td>20000.0</td>\n",
       "      <td>20000.0</td>\n",
       "      <td>19975.0</td>\n",
       "      <td>60 months</td>\n",
       "      <td>19.36%</td>\n",
       "      <td>522.79</td>\n",
       "      <td>F</td>\n",
       "      <td>F4</td>\n",
       "      <td>...</td>\n",
       "      <td>NaN</td>\n",
       "      <td>NaN</td>\n",
       "      <td>NaN</td>\n",
       "      <td>NaN</td>\n",
       "      <td>0.0</td>\n",
       "      <td>0.0</td>\n",
       "      <td>NaN</td>\n",
       "      <td>NaN</td>\n",
       "      <td>NaN</td>\n",
       "      <td>NaN</td>\n",
       "    </tr>\n",
       "    <tr>\n",
       "      <th>26555</th>\n",
       "      <td>568472</td>\n",
       "      <td>731314.0</td>\n",
       "      <td>6250.0</td>\n",
       "      <td>6250.0</td>\n",
       "      <td>6250.0</td>\n",
       "      <td>36 months</td>\n",
       "      <td>7.14%</td>\n",
       "      <td>193.39</td>\n",
       "      <td>A</td>\n",
       "      <td>A3</td>\n",
       "      <td>...</td>\n",
       "      <td>NaN</td>\n",
       "      <td>NaN</td>\n",
       "      <td>NaN</td>\n",
       "      <td>NaN</td>\n",
       "      <td>0.0</td>\n",
       "      <td>0.0</td>\n",
       "      <td>NaN</td>\n",
       "      <td>NaN</td>\n",
       "      <td>NaN</td>\n",
       "      <td>NaN</td>\n",
       "    </tr>\n",
       "    <tr>\n",
       "      <th>22050</th>\n",
       "      <td>635524</td>\n",
       "      <td>814122.0</td>\n",
       "      <td>22000.0</td>\n",
       "      <td>22000.0</td>\n",
       "      <td>21500.0</td>\n",
       "      <td>36 months</td>\n",
       "      <td>6.17%</td>\n",
       "      <td>670.98</td>\n",
       "      <td>A</td>\n",
       "      <td>A3</td>\n",
       "      <td>...</td>\n",
       "      <td>NaN</td>\n",
       "      <td>NaN</td>\n",
       "      <td>NaN</td>\n",
       "      <td>NaN</td>\n",
       "      <td>0.0</td>\n",
       "      <td>0.0</td>\n",
       "      <td>NaN</td>\n",
       "      <td>NaN</td>\n",
       "      <td>NaN</td>\n",
       "      <td>NaN</td>\n",
       "    </tr>\n",
       "    <tr>\n",
       "      <th>2926</th>\n",
       "      <td>1029687</td>\n",
       "      <td>1259074.0</td>\n",
       "      <td>15000.0</td>\n",
       "      <td>15000.0</td>\n",
       "      <td>15000.0</td>\n",
       "      <td>36 months</td>\n",
       "      <td>14.27%</td>\n",
       "      <td>514.64</td>\n",
       "      <td>C</td>\n",
       "      <td>C2</td>\n",
       "      <td>...</td>\n",
       "      <td>NaN</td>\n",
       "      <td>NaN</td>\n",
       "      <td>NaN</td>\n",
       "      <td>NaN</td>\n",
       "      <td>0.0</td>\n",
       "      <td>0.0</td>\n",
       "      <td>NaN</td>\n",
       "      <td>NaN</td>\n",
       "      <td>NaN</td>\n",
       "      <td>NaN</td>\n",
       "    </tr>\n",
       "    <tr>\n",
       "      <th>22864</th>\n",
       "      <td>623531</td>\n",
       "      <td>799112.0</td>\n",
       "      <td>19500.0</td>\n",
       "      <td>19500.0</td>\n",
       "      <td>19500.0</td>\n",
       "      <td>60 months</td>\n",
       "      <td>17.06%</td>\n",
       "      <td>485.26</td>\n",
       "      <td>E</td>\n",
       "      <td>E4</td>\n",
       "      <td>...</td>\n",
       "      <td>NaN</td>\n",
       "      <td>NaN</td>\n",
       "      <td>NaN</td>\n",
       "      <td>NaN</td>\n",
       "      <td>0.0</td>\n",
       "      <td>0.0</td>\n",
       "      <td>NaN</td>\n",
       "      <td>NaN</td>\n",
       "      <td>NaN</td>\n",
       "      <td>NaN</td>\n",
       "    </tr>\n",
       "  </tbody>\n",
       "</table>\n",
       "<p>5 rows × 111 columns</p>\n",
       "</div>"
      ],
      "text/plain": [
       "            id  member_id  loan_amnt  funded_amnt  funded_amnt_inv  \\\n",
       "17098   722110   916893.0    20000.0      20000.0          19975.0   \n",
       "26555   568472   731314.0     6250.0       6250.0           6250.0   \n",
       "22050   635524   814122.0    22000.0      22000.0          21500.0   \n",
       "2926   1029687  1259074.0    15000.0      15000.0          15000.0   \n",
       "22864   623531   799112.0    19500.0      19500.0          19500.0   \n",
       "\n",
       "             term int_rate  installment grade sub_grade  \\\n",
       "17098   60 months   19.36%       522.79     F        F4   \n",
       "26555   36 months    7.14%       193.39     A        A3   \n",
       "22050   36 months    6.17%       670.98     A        A3   \n",
       "2926    36 months   14.27%       514.64     C        C2   \n",
       "22864   60 months   17.06%       485.26     E        E4   \n",
       "\n",
       "                 ...             num_tl_90g_dpd_24m num_tl_op_past_12m  \\\n",
       "17098            ...                            NaN                NaN   \n",
       "26555            ...                            NaN                NaN   \n",
       "22050            ...                            NaN                NaN   \n",
       "2926             ...                            NaN                NaN   \n",
       "22864            ...                            NaN                NaN   \n",
       "\n",
       "      pct_tl_nvr_dlq  percent_bc_gt_75 pub_rec_bankruptcies tax_liens  \\\n",
       "17098            NaN               NaN                  0.0       0.0   \n",
       "26555            NaN               NaN                  0.0       0.0   \n",
       "22050            NaN               NaN                  0.0       0.0   \n",
       "2926             NaN               NaN                  0.0       0.0   \n",
       "22864            NaN               NaN                  0.0       0.0   \n",
       "\n",
       "      tot_hi_cred_lim total_bal_ex_mort total_bc_limit  \\\n",
       "17098             NaN               NaN            NaN   \n",
       "26555             NaN               NaN            NaN   \n",
       "22050             NaN               NaN            NaN   \n",
       "2926              NaN               NaN            NaN   \n",
       "22864             NaN               NaN            NaN   \n",
       "\n",
       "      total_il_high_credit_limit  \n",
       "17098                        NaN  \n",
       "26555                        NaN  \n",
       "22050                        NaN  \n",
       "2926                         NaN  \n",
       "22864                        NaN  \n",
       "\n",
       "[5 rows x 111 columns]"
      ]
     },
     "execution_count": 56,
     "metadata": {},
     "output_type": "execute_result"
    }
   ],
   "source": [
    "\n",
    "train.head()"
   ]
  },
  {
   "cell_type": "code",
   "execution_count": 57,
   "metadata": {},
   "outputs": [
    {
     "data": {
      "text/plain": [
       "id                                                                           722110\n",
       "member_id                                                                    916893\n",
       "loan_amnt                                                                     20000\n",
       "funded_amnt                                                                   20000\n",
       "funded_amnt_inv                                                               19975\n",
       "term                                                                      60 months\n",
       "int_rate                                                                     19.36%\n",
       "installment                                                                  522.79\n",
       "grade                                                                             F\n",
       "sub_grade                                                                        F4\n",
       "emp_title                                                            Kroger Company\n",
       "emp_length                                                                10+ years\n",
       "home_ownership                                                             MORTGAGE\n",
       "annual_inc                                                                    55000\n",
       "verification_status                                                        Verified\n",
       "issue_d                                                                      Apr-11\n",
       "loan_status                                                             Charged Off\n",
       "pymnt_plan                                                                        n\n",
       "url                               https://lendingclub.com/browse/loanDetail.acti...\n",
       "desc                                Borrower added on 04/06/11 > This is to pay ...\n",
       "purpose                                                          debt_consolidation\n",
       "title                                                          credit consolidation\n",
       "zip_code                                                                      452xx\n",
       "addr_state                                                                       OH\n",
       "dti                                                                            22.1\n",
       "delinq_2yrs                                                                       0\n",
       "earliest_cr_line                                                             Sep-00\n",
       "inq_last_6mths                                                                    0\n",
       "mths_since_last_delinq                                                           45\n",
       "mths_since_last_record                                                          NaN\n",
       "                                                        ...                        \n",
       "mo_sin_old_rev_tl_op                                                            NaN\n",
       "mo_sin_rcnt_rev_tl_op                                                           NaN\n",
       "mo_sin_rcnt_tl                                                                  NaN\n",
       "mort_acc                                                                        NaN\n",
       "mths_since_recent_bc                                                            NaN\n",
       "mths_since_recent_bc_dlq                                                        NaN\n",
       "mths_since_recent_inq                                                           NaN\n",
       "mths_since_recent_revol_delinq                                                  NaN\n",
       "num_accts_ever_120_pd                                                           NaN\n",
       "num_actv_bc_tl                                                                  NaN\n",
       "num_actv_rev_tl                                                                 NaN\n",
       "num_bc_sats                                                                     NaN\n",
       "num_bc_tl                                                                       NaN\n",
       "num_il_tl                                                                       NaN\n",
       "num_op_rev_tl                                                                   NaN\n",
       "num_rev_accts                                                                   NaN\n",
       "num_rev_tl_bal_gt_0                                                             NaN\n",
       "num_sats                                                                        NaN\n",
       "num_tl_120dpd_2m                                                                NaN\n",
       "num_tl_30dpd                                                                    NaN\n",
       "num_tl_90g_dpd_24m                                                              NaN\n",
       "num_tl_op_past_12m                                                              NaN\n",
       "pct_tl_nvr_dlq                                                                  NaN\n",
       "percent_bc_gt_75                                                                NaN\n",
       "pub_rec_bankruptcies                                                              0\n",
       "tax_liens                                                                         0\n",
       "tot_hi_cred_lim                                                                 NaN\n",
       "total_bal_ex_mort                                                               NaN\n",
       "total_bc_limit                                                                  NaN\n",
       "total_il_high_credit_limit                                                      NaN\n",
       "Name: 17098, Length: 111, dtype: object"
      ]
     },
     "execution_count": 57,
     "metadata": {},
     "output_type": "execute_result"
    }
   ],
   "source": [
    "train.iloc[0]"
   ]
  },
  {
   "cell_type": "code",
   "execution_count": 58,
   "metadata": {},
   "outputs": [
    {
     "data": {
      "text/html": [
       "<div>\n",
       "<style scoped>\n",
       "    .dataframe tbody tr th:only-of-type {\n",
       "        vertical-align: middle;\n",
       "    }\n",
       "\n",
       "    .dataframe tbody tr th {\n",
       "        vertical-align: top;\n",
       "    }\n",
       "\n",
       "    .dataframe thead th {\n",
       "        text-align: right;\n",
       "    }\n",
       "</style>\n",
       "<table border=\"1\" class=\"dataframe\">\n",
       "  <thead>\n",
       "    <tr style=\"text-align: right;\">\n",
       "      <th></th>\n",
       "      <th>member_id</th>\n",
       "      <th>loan_amnt</th>\n",
       "      <th>funded_amnt</th>\n",
       "      <th>funded_amnt_inv</th>\n",
       "      <th>installment</th>\n",
       "      <th>annual_inc</th>\n",
       "      <th>dti</th>\n",
       "      <th>delinq_2yrs</th>\n",
       "      <th>inq_last_6mths</th>\n",
       "      <th>mths_since_last_delinq</th>\n",
       "      <th>...</th>\n",
       "      <th>num_tl_90g_dpd_24m</th>\n",
       "      <th>num_tl_op_past_12m</th>\n",
       "      <th>pct_tl_nvr_dlq</th>\n",
       "      <th>percent_bc_gt_75</th>\n",
       "      <th>pub_rec_bankruptcies</th>\n",
       "      <th>tax_liens</th>\n",
       "      <th>tot_hi_cred_lim</th>\n",
       "      <th>total_bal_ex_mort</th>\n",
       "      <th>total_bc_limit</th>\n",
       "      <th>total_il_high_credit_limit</th>\n",
       "    </tr>\n",
       "  </thead>\n",
       "  <tbody>\n",
       "    <tr>\n",
       "      <th>count</th>\n",
       "      <td>3.402800e+04</td>\n",
       "      <td>34028.000000</td>\n",
       "      <td>34028.000000</td>\n",
       "      <td>34028.000000</td>\n",
       "      <td>34028.000000</td>\n",
       "      <td>3.402400e+04</td>\n",
       "      <td>34028.000000</td>\n",
       "      <td>34006.000000</td>\n",
       "      <td>34006.000000</td>\n",
       "      <td>12504.000000</td>\n",
       "      <td>...</td>\n",
       "      <td>0.0</td>\n",
       "      <td>0.0</td>\n",
       "      <td>0.0</td>\n",
       "      <td>0.0</td>\n",
       "      <td>32913.000000</td>\n",
       "      <td>33946.000000</td>\n",
       "      <td>0.0</td>\n",
       "      <td>0.0</td>\n",
       "      <td>0.0</td>\n",
       "      <td>0.0</td>\n",
       "    </tr>\n",
       "    <tr>\n",
       "      <th>mean</th>\n",
       "      <td>8.257023e+05</td>\n",
       "      <td>11096.311126</td>\n",
       "      <td>10830.510168</td>\n",
       "      <td>10142.757619</td>\n",
       "      <td>323.006128</td>\n",
       "      <td>6.919401e+04</td>\n",
       "      <td>13.374909</td>\n",
       "      <td>0.150885</td>\n",
       "      <td>1.080427</td>\n",
       "      <td>35.044386</td>\n",
       "      <td>...</td>\n",
       "      <td>NaN</td>\n",
       "      <td>NaN</td>\n",
       "      <td>NaN</td>\n",
       "      <td>NaN</td>\n",
       "      <td>0.046425</td>\n",
       "      <td>0.000029</td>\n",
       "      <td>NaN</td>\n",
       "      <td>NaN</td>\n",
       "      <td>NaN</td>\n",
       "      <td>NaN</td>\n",
       "    </tr>\n",
       "    <tr>\n",
       "      <th>std</th>\n",
       "      <td>2.797965e+05</td>\n",
       "      <td>7401.172118</td>\n",
       "      <td>7140.885977</td>\n",
       "      <td>7131.110547</td>\n",
       "      <td>209.199635</td>\n",
       "      <td>6.639072e+04</td>\n",
       "      <td>6.713533</td>\n",
       "      <td>0.510752</td>\n",
       "      <td>1.523748</td>\n",
       "      <td>22.402298</td>\n",
       "      <td>...</td>\n",
       "      <td>NaN</td>\n",
       "      <td>NaN</td>\n",
       "      <td>NaN</td>\n",
       "      <td>NaN</td>\n",
       "      <td>0.211272</td>\n",
       "      <td>0.005428</td>\n",
       "      <td>NaN</td>\n",
       "      <td>NaN</td>\n",
       "      <td>NaN</td>\n",
       "      <td>NaN</td>\n",
       "    </tr>\n",
       "    <tr>\n",
       "      <th>min</th>\n",
       "      <td>7.047300e+04</td>\n",
       "      <td>500.000000</td>\n",
       "      <td>500.000000</td>\n",
       "      <td>0.000000</td>\n",
       "      <td>15.670000</td>\n",
       "      <td>2.000000e+03</td>\n",
       "      <td>0.000000</td>\n",
       "      <td>0.000000</td>\n",
       "      <td>0.000000</td>\n",
       "      <td>0.000000</td>\n",
       "      <td>...</td>\n",
       "      <td>NaN</td>\n",
       "      <td>NaN</td>\n",
       "      <td>NaN</td>\n",
       "      <td>NaN</td>\n",
       "      <td>0.000000</td>\n",
       "      <td>0.000000</td>\n",
       "      <td>NaN</td>\n",
       "      <td>NaN</td>\n",
       "      <td>NaN</td>\n",
       "      <td>NaN</td>\n",
       "    </tr>\n",
       "    <tr>\n",
       "      <th>25%</th>\n",
       "      <td>6.385390e+05</td>\n",
       "      <td>5200.000000</td>\n",
       "      <td>5050.000000</td>\n",
       "      <td>4950.000000</td>\n",
       "      <td>165.602500</td>\n",
       "      <td>4.001700e+04</td>\n",
       "      <td>8.210000</td>\n",
       "      <td>0.000000</td>\n",
       "      <td>0.000000</td>\n",
       "      <td>17.000000</td>\n",
       "      <td>...</td>\n",
       "      <td>NaN</td>\n",
       "      <td>NaN</td>\n",
       "      <td>NaN</td>\n",
       "      <td>NaN</td>\n",
       "      <td>0.000000</td>\n",
       "      <td>0.000000</td>\n",
       "      <td>NaN</td>\n",
       "      <td>NaN</td>\n",
       "      <td>NaN</td>\n",
       "      <td>NaN</td>\n",
       "    </tr>\n",
       "    <tr>\n",
       "      <th>50%</th>\n",
       "      <td>8.255280e+05</td>\n",
       "      <td>9750.000000</td>\n",
       "      <td>9600.000000</td>\n",
       "      <td>8500.000000</td>\n",
       "      <td>277.980000</td>\n",
       "      <td>5.896400e+04</td>\n",
       "      <td>13.470000</td>\n",
       "      <td>0.000000</td>\n",
       "      <td>1.000000</td>\n",
       "      <td>33.000000</td>\n",
       "      <td>...</td>\n",
       "      <td>NaN</td>\n",
       "      <td>NaN</td>\n",
       "      <td>NaN</td>\n",
       "      <td>NaN</td>\n",
       "      <td>0.000000</td>\n",
       "      <td>0.000000</td>\n",
       "      <td>NaN</td>\n",
       "      <td>NaN</td>\n",
       "      <td>NaN</td>\n",
       "      <td>NaN</td>\n",
       "    </tr>\n",
       "    <tr>\n",
       "      <th>75%</th>\n",
       "      <td>1.034588e+06</td>\n",
       "      <td>15000.000000</td>\n",
       "      <td>15000.000000</td>\n",
       "      <td>14000.000000</td>\n",
       "      <td>427.872500</td>\n",
       "      <td>8.250000e+04</td>\n",
       "      <td>18.670000</td>\n",
       "      <td>0.000000</td>\n",
       "      <td>2.000000</td>\n",
       "      <td>51.000000</td>\n",
       "      <td>...</td>\n",
       "      <td>NaN</td>\n",
       "      <td>NaN</td>\n",
       "      <td>NaN</td>\n",
       "      <td>NaN</td>\n",
       "      <td>0.000000</td>\n",
       "      <td>0.000000</td>\n",
       "      <td>NaN</td>\n",
       "      <td>NaN</td>\n",
       "      <td>NaN</td>\n",
       "      <td>NaN</td>\n",
       "    </tr>\n",
       "    <tr>\n",
       "      <th>max</th>\n",
       "      <td>1.313524e+06</td>\n",
       "      <td>35000.000000</td>\n",
       "      <td>35000.000000</td>\n",
       "      <td>35000.000000</td>\n",
       "      <td>1305.190000</td>\n",
       "      <td>6.000000e+06</td>\n",
       "      <td>29.990000</td>\n",
       "      <td>13.000000</td>\n",
       "      <td>32.000000</td>\n",
       "      <td>120.000000</td>\n",
       "      <td>...</td>\n",
       "      <td>NaN</td>\n",
       "      <td>NaN</td>\n",
       "      <td>NaN</td>\n",
       "      <td>NaN</td>\n",
       "      <td>2.000000</td>\n",
       "      <td>1.000000</td>\n",
       "      <td>NaN</td>\n",
       "      <td>NaN</td>\n",
       "      <td>NaN</td>\n",
       "      <td>NaN</td>\n",
       "    </tr>\n",
       "  </tbody>\n",
       "</table>\n",
       "<p>8 rows × 86 columns</p>\n",
       "</div>"
      ],
      "text/plain": [
       "          member_id     loan_amnt   funded_amnt  funded_amnt_inv  \\\n",
       "count  3.402800e+04  34028.000000  34028.000000     34028.000000   \n",
       "mean   8.257023e+05  11096.311126  10830.510168     10142.757619   \n",
       "std    2.797965e+05   7401.172118   7140.885977      7131.110547   \n",
       "min    7.047300e+04    500.000000    500.000000         0.000000   \n",
       "25%    6.385390e+05   5200.000000   5050.000000      4950.000000   \n",
       "50%    8.255280e+05   9750.000000   9600.000000      8500.000000   \n",
       "75%    1.034588e+06  15000.000000  15000.000000     14000.000000   \n",
       "max    1.313524e+06  35000.000000  35000.000000     35000.000000   \n",
       "\n",
       "        installment    annual_inc           dti   delinq_2yrs  inq_last_6mths  \\\n",
       "count  34028.000000  3.402400e+04  34028.000000  34006.000000    34006.000000   \n",
       "mean     323.006128  6.919401e+04     13.374909      0.150885        1.080427   \n",
       "std      209.199635  6.639072e+04      6.713533      0.510752        1.523748   \n",
       "min       15.670000  2.000000e+03      0.000000      0.000000        0.000000   \n",
       "25%      165.602500  4.001700e+04      8.210000      0.000000        0.000000   \n",
       "50%      277.980000  5.896400e+04     13.470000      0.000000        1.000000   \n",
       "75%      427.872500  8.250000e+04     18.670000      0.000000        2.000000   \n",
       "max     1305.190000  6.000000e+06     29.990000     13.000000       32.000000   \n",
       "\n",
       "       mths_since_last_delinq             ...              num_tl_90g_dpd_24m  \\\n",
       "count            12504.000000             ...                             0.0   \n",
       "mean                35.044386             ...                             NaN   \n",
       "std                 22.402298             ...                             NaN   \n",
       "min                  0.000000             ...                             NaN   \n",
       "25%                 17.000000             ...                             NaN   \n",
       "50%                 33.000000             ...                             NaN   \n",
       "75%                 51.000000             ...                             NaN   \n",
       "max                120.000000             ...                             NaN   \n",
       "\n",
       "       num_tl_op_past_12m  pct_tl_nvr_dlq  percent_bc_gt_75  \\\n",
       "count                 0.0             0.0               0.0   \n",
       "mean                  NaN             NaN               NaN   \n",
       "std                   NaN             NaN               NaN   \n",
       "min                   NaN             NaN               NaN   \n",
       "25%                   NaN             NaN               NaN   \n",
       "50%                   NaN             NaN               NaN   \n",
       "75%                   NaN             NaN               NaN   \n",
       "max                   NaN             NaN               NaN   \n",
       "\n",
       "       pub_rec_bankruptcies     tax_liens  tot_hi_cred_lim  total_bal_ex_mort  \\\n",
       "count          32913.000000  33946.000000              0.0                0.0   \n",
       "mean               0.046425      0.000029              NaN                NaN   \n",
       "std                0.211272      0.005428              NaN                NaN   \n",
       "min                0.000000      0.000000              NaN                NaN   \n",
       "25%                0.000000      0.000000              NaN                NaN   \n",
       "50%                0.000000      0.000000              NaN                NaN   \n",
       "75%                0.000000      0.000000              NaN                NaN   \n",
       "max                2.000000      1.000000              NaN                NaN   \n",
       "\n",
       "       total_bc_limit  total_il_high_credit_limit  \n",
       "count             0.0                         0.0  \n",
       "mean              NaN                         NaN  \n",
       "std               NaN                         NaN  \n",
       "min               NaN                         NaN  \n",
       "25%               NaN                         NaN  \n",
       "50%               NaN                         NaN  \n",
       "75%               NaN                         NaN  \n",
       "max               NaN                         NaN  \n",
       "\n",
       "[8 rows x 86 columns]"
      ]
     },
     "execution_count": 58,
     "metadata": {},
     "output_type": "execute_result"
    }
   ],
   "source": [
    "train.describe()"
   ]
  },
  {
   "cell_type": "code",
   "execution_count": 59,
   "metadata": {},
   "outputs": [],
   "source": [
    "train = train.drop(['desc', 'url'],axis=1)\n",
    "test=test.drop(['desc','url'],axis=1)"
   ]
  },
  {
   "cell_type": "code",
   "execution_count": 60,
   "metadata": {},
   "outputs": [
    {
     "data": {
      "text/plain": [
       "id                                         833971\n",
       "member_id                             1.04371e+06\n",
       "loan_amnt                                   35000\n",
       "funded_amnt                                 35000\n",
       "funded_amnt_inv                             34975\n",
       "term                                    60 months\n",
       "int_rate                                   18.39%\n",
       "installment                                896.22\n",
       "grade                                           E\n",
       "sub_grade                                      E2\n",
       "emp_title                                    TSYS\n",
       "emp_length                              10+ years\n",
       "home_ownership                           MORTGAGE\n",
       "annual_inc                                  53000\n",
       "verification_status                      Verified\n",
       "issue_d                                    Aug-11\n",
       "loan_status                           Charged Off\n",
       "pymnt_plan                                      n\n",
       "purpose                            small_business\n",
       "title                         Small Business Loan\n",
       "zip_code                                    368xx\n",
       "addr_state                                     AL\n",
       "dti                                         10.19\n",
       "delinq_2yrs                                     0\n",
       "earliest_cr_line                           Jul-99\n",
       "inq_last_6mths                                  0\n",
       "open_acc                                        9\n",
       "pub_rec                                         0\n",
       "revol_bal                                   36328\n",
       "revol_util                                 93.40%\n",
       "total_acc                                      20\n",
       "initial_list_status                             f\n",
       "out_prncp                                       0\n",
       "out_prncp_inv                                   0\n",
       "total_pymnt                               30471.5\n",
       "total_pymnt_inv                           30449.7\n",
       "total_rec_prncp                           15598.6\n",
       "total_rec_int                             14870.4\n",
       "total_rec_late_fee                              0\n",
       "recoveries                                    2.4\n",
       "collection_recovery_fee                         0\n",
       "last_pymnt_d                               Jul-14\n",
       "last_pymnt_amnt                            496.22\n",
       "last_credit_pull_d                         Dec-16\n",
       "collections_12_mths_ex_med                      0\n",
       "policy_code                                     1\n",
       "application_type                       INDIVIDUAL\n",
       "acc_now_delinq                                  0\n",
       "chargeoff_within_12_mths                        0\n",
       "delinq_amnt                                     0\n",
       "pub_rec_bankruptcies                            0\n",
       "tax_liens                                       0\n",
       "Name: 10350, dtype: object"
      ]
     },
     "execution_count": 60,
     "metadata": {},
     "output_type": "execute_result"
    }
   ],
   "source": [
    "train=train.dropna(thresh=len(train)/2,axis=1)\n",
    "test=test.dropna(thresh=len(test)/2,axis=1)\n",
    "test.iloc[0]"
   ]
  },
  {
   "cell_type": "code",
   "execution_count": 64,
   "metadata": {},
   "outputs": [
    {
     "name": "stdout",
     "output_type": "stream",
     "text": [
      "52\n",
      "52\n"
     ]
    }
   ],
   "source": [
    "print(len(test.columns))\n",
    "print(len(train.columns))"
   ]
  },
  {
   "cell_type": "code",
   "execution_count": 65,
   "metadata": {
    "scrolled": true
   },
   "outputs": [
    {
     "data": {
      "text/plain": [
       "<matplotlib.axes._subplots.AxesSubplot at 0x2229ca06208>"
      ]
     },
     "execution_count": 65,
     "metadata": {},
     "output_type": "execute_result"
    },
    {
     "data": {
      "image/png": "[encoded data removed]",
      "text/plain": [
       "<Figure size 432x288 with 1 Axes>"
      ]
     },
     "metadata": {
      "needs_background": "light"
     },
     "output_type": "display_data"
    }
   ],
   "source": [
    "#lower the grade,higher loan amount issued\n",
    "import seaborn as sns\n",
    "df_copy=train\n",
    "group = df_copy.groupby(\"grade\").mean()\n",
    "avg_loan = group['loan_amnt'].reset_index()\n",
    "sns.barplot(x='grade', y='loan_amnt', data=avg_loan, palette='Set2')"
   ]
  },
  {
   "cell_type": "code",
   "execution_count": 66,
   "metadata": {},
   "outputs": [
    {
     "name": "stderr",
     "output_type": "stream",
     "text": [
      "C:\\Users\\User\\Anaconda3\\lib\\site-packages\\scipy\\stats\\stats.py:1713: FutureWarning: Using a non-tuple sequence for multidimensional indexing is deprecated; use `arr[tuple(seq)]` instead of `arr[seq]`. In the future this will be interpreted as an array index, `arr[np.array(seq)]`, which will result either in an error or a different result.\n",
      "  return np.add.reduce(sorted[indexer] * weights, axis=axis) / sumval\n"
     ]
    },
    {
     "data": {
      "text/plain": [
       "<matplotlib.axes._subplots.AxesSubplot at 0x2229b030518>"
      ]
     },
     "execution_count": 66,
     "metadata": {},
     "output_type": "execute_result"
    },
    {
     "data": {
      "image/png": "[encoded data removed]",
      "text/plain": [
       "<Figure size 1080x288 with 1 Axes>"
      ]
     },
     "metadata": {
      "needs_background": "light"
     },
     "output_type": "display_data"
    }
   ],
   "source": [
    "#converting interest in percent to float type(removing % symbol)\n",
    "df_copy['int_rate'] = df_copy['int_rate'].str.rstrip('%').astype('float')/100.0\n",
    "plt.subplots(figsize=(15,4))\n",
    "sns.violinplot(x='grade', y='int_rate', data=df_copy,order=\"ABCDEFG\")\n",
    "#shows lower grades have higher interest rates"
   ]
  },
  {
   "cell_type": "code",
   "execution_count": 75,
   "metadata": {},
   "outputs": [
    {
     "data": {
      "text/html": [
       "<div>\n",
       "<style scoped>\n",
       "    .dataframe tbody tr th:only-of-type {\n",
       "        vertical-align: middle;\n",
       "    }\n",
       "\n",
       "    .dataframe tbody tr th {\n",
       "        vertical-align: top;\n",
       "    }\n",
       "\n",
       "    .dataframe thead th {\n",
       "        text-align: right;\n",
       "    }\n",
       "</style>\n",
       "<table border=\"1\" class=\"dataframe\">\n",
       "  <thead>\n",
       "    <tr style=\"text-align: right;\">\n",
       "      <th></th>\n",
       "      <th>annual_inc</th>\n",
       "      <th>delinq_2yrs</th>\n",
       "      <th>dti</th>\n",
       "      <th>emp_length</th>\n",
       "      <th>grade</th>\n",
       "      <th>home_ownership</th>\n",
       "      <th>installment</th>\n",
       "      <th>int_rate</th>\n",
       "      <th>loan_amnt</th>\n",
       "      <th>loan_status</th>\n",
       "      <th>purpose</th>\n",
       "      <th>sub_grade</th>\n",
       "      <th>acc_now_delinq</th>\n",
       "    </tr>\n",
       "  </thead>\n",
       "  <tbody>\n",
       "    <tr>\n",
       "      <th>17098</th>\n",
       "      <td>55000.0</td>\n",
       "      <td>0.0</td>\n",
       "      <td>22.10</td>\n",
       "      <td>1</td>\n",
       "      <td>5</td>\n",
       "      <td>0</td>\n",
       "      <td>522.79</td>\n",
       "      <td>0.1936</td>\n",
       "      <td>20000.0</td>\n",
       "      <td>0</td>\n",
       "      <td>2</td>\n",
       "      <td>28</td>\n",
       "      <td>0.0</td>\n",
       "    </tr>\n",
       "    <tr>\n",
       "      <th>26555</th>\n",
       "      <td>43000.0</td>\n",
       "      <td>0.0</td>\n",
       "      <td>12.89</td>\n",
       "      <td>7</td>\n",
       "      <td>0</td>\n",
       "      <td>0</td>\n",
       "      <td>193.39</td>\n",
       "      <td>0.0714</td>\n",
       "      <td>6250.0</td>\n",
       "      <td>0</td>\n",
       "      <td>11</td>\n",
       "      <td>2</td>\n",
       "      <td>0.0</td>\n",
       "    </tr>\n",
       "    <tr>\n",
       "      <th>22050</th>\n",
       "      <td>90996.0</td>\n",
       "      <td>0.0</td>\n",
       "      <td>17.46</td>\n",
       "      <td>9</td>\n",
       "      <td>0</td>\n",
       "      <td>0</td>\n",
       "      <td>670.98</td>\n",
       "      <td>0.0617</td>\n",
       "      <td>22000.0</td>\n",
       "      <td>5</td>\n",
       "      <td>2</td>\n",
       "      <td>2</td>\n",
       "      <td>0.0</td>\n",
       "    </tr>\n",
       "    <tr>\n",
       "      <th>2926</th>\n",
       "      <td>31200.0</td>\n",
       "      <td>0.0</td>\n",
       "      <td>5.54</td>\n",
       "      <td>4</td>\n",
       "      <td>2</td>\n",
       "      <td>0</td>\n",
       "      <td>514.64</td>\n",
       "      <td>0.1427</td>\n",
       "      <td>15000.0</td>\n",
       "      <td>5</td>\n",
       "      <td>2</td>\n",
       "      <td>11</td>\n",
       "      <td>0.0</td>\n",
       "    </tr>\n",
       "    <tr>\n",
       "      <th>22864</th>\n",
       "      <td>53200.0</td>\n",
       "      <td>0.0</td>\n",
       "      <td>16.20</td>\n",
       "      <td>5</td>\n",
       "      <td>4</td>\n",
       "      <td>0</td>\n",
       "      <td>485.26</td>\n",
       "      <td>0.1706</td>\n",
       "      <td>19500.0</td>\n",
       "      <td>0</td>\n",
       "      <td>2</td>\n",
       "      <td>23</td>\n",
       "      <td>0.0</td>\n",
       "    </tr>\n",
       "  </tbody>\n",
       "</table>\n",
       "</div>"
      ],
      "text/plain": [
       "       annual_inc  delinq_2yrs    dti  emp_length  grade  home_ownership  \\\n",
       "17098     55000.0          0.0  22.10           1      5               0   \n",
       "26555     43000.0          0.0  12.89           7      0               0   \n",
       "22050     90996.0          0.0  17.46           9      0               0   \n",
       "2926      31200.0          0.0   5.54           4      2               0   \n",
       "22864     53200.0          0.0  16.20           5      4               0   \n",
       "\n",
       "       installment  int_rate  loan_amnt  loan_status  purpose  sub_grade  \\\n",
       "17098       522.79    0.1936    20000.0            0        2         28   \n",
       "26555       193.39    0.0714     6250.0            0       11          2   \n",
       "22050       670.98    0.0617    22000.0            5        2          2   \n",
       "2926        514.64    0.1427    15000.0            5        2         11   \n",
       "22864       485.26    0.1706    19500.0            0        2         23   \n",
       "\n",
       "       acc_now_delinq  \n",
       "17098             0.0  \n",
       "26555             0.0  \n",
       "22050             0.0  \n",
       "2926              0.0  \n",
       "22864             0.0  "
      ]
     },
     "execution_count": 75,
     "metadata": {},
     "output_type": "execute_result"
    }
   ],
   "source": [
    "from sklearn.preprocessing import LabelEncoder\n",
    "df_exp=pd.DataFrame()#create new dataset\n",
    "labelencoder_X=LabelEncoder()\n",
    "#df_copy[:,0] = labelencoder_X.fit_transform(df_copy[:,0])\n",
    "\n",
    "for col_name in df_copy.columns:\n",
    "    if(df_copy[col_name].dtype == 'object'):\n",
    "        df_copy[col_name]= df_copy[col_name].astype('category')\n",
    "        df_copy[col_name] = df_copy[col_name]\n",
    "df_exp['annual_inc'] = df_copy['annual_inc']\n",
    "df_exp['delinq_2yrs'] = df_copy['delinq_2yrs']\n",
    "df_exp['dti'] = df_copy['dti']\n",
    "#cat_columns = df_copy.select_dtypes(['object']).columns\n",
    "#df_copy[cat_columns] = df_copy[cat_columns].apply(lambda x: x.cat.codes)#convert categoical data to numeric data\n",
    "df_exp['emp_length'] = df_copy['emp_length'].cat.codes\n",
    "df_exp['grade'] = df_copy['grade'].cat.codes\n",
    "df_exp['home_ownership'] = df_copy['home_ownership'].cat.codes\n",
    "df_exp['installment'] = df_copy['installment']\n",
    "df_exp['int_rate'] = df_copy['int_rate']\n",
    "df_exp['loan_amnt'] = df_copy['loan_amnt']\n",
    "df_exp['loan_status'] = df_copy['loan_status'].cat.codes\n",
    "df_exp['purpose'] = df_copy['purpose'].cat.codes\n",
    "df_exp['sub_grade'] = df_copy['sub_grade'].cat.codes\n",
    "#df_exp['term'] = categorize(df_copy['term'])\n",
    "df_exp['acc_now_delinq'] = df_copy['acc_now_delinq']\n",
    "len(df_exp.columns)\n",
    "df_exp.head()"
   ]
  },
  {
   "cell_type": "code",
   "execution_count": 76,
   "metadata": {},
   "outputs": [
    {
     "data": {
      "text/plain": [
       "52"
      ]
     },
     "execution_count": 76,
     "metadata": {},
     "output_type": "execute_result"
    }
   ],
   "source": [
    "len(train.columns)"
   ]
  },
  {
   "cell_type": "code",
   "execution_count": 176,
   "metadata": {},
   "outputs": [
    {
     "data": {
      "text/plain": [
       "<matplotlib.axes._subplots.AxesSubplot at 0x22289e41cf8>"
      ]
     },
     "execution_count": 176,
     "metadata": {},
     "output_type": "execute_result"
    },
    {
     "data": {
      "image/png": "[encoded data removed]",
      "text/plain": [
       "<Figure size 720x504 with 2 Axes>"
      ]
     },
     "metadata": {
      "needs_background": "light"
     },
     "output_type": "display_data"
    }
   ],
   "source": [
    " plt.figure(figsize=(10,7))\n",
    "# plt.matshow(df_exp.corr())\n",
    "# plt.show()\n",
    "# calculate the correlation matrix\n",
    "corr = df_exp.corr()\n",
    "\n",
    "# plot the heatmap\n",
    "sns.heatmap(corr, \n",
    "        xticklabels=corr.columns,\n",
    "        yticklabels=corr.columns,annot=True,fmt='.1f')"
   ]
  },
  {
   "cell_type": "code",
   "execution_count": 78,
   "metadata": {},
   "outputs": [
    {
     "data": {
      "text/plain": [
       "52"
      ]
     },
     "execution_count": 78,
     "metadata": {},
     "output_type": "execute_result"
    }
   ],
   "source": [
    "len(train.columns)"
   ]
  },
  {
   "cell_type": "code",
   "execution_count": 79,
   "metadata": {},
   "outputs": [],
   "source": [
    "#issue_d,is data about the month the loan was funded, this means a future information, we remove it\n",
    "train = train.drop(['issue_d','zip_code'], axis =1)\n",
    "test=test.drop(['issue_d','zip_code'], axis =1)"
   ]
  },
  {
   "cell_type": "code",
   "execution_count": 80,
   "metadata": {},
   "outputs": [],
   "source": [
    "#grsde is hihly correlated with interst and they depend on each other;recurring thus removed\n",
    "train = train.drop(['id', 'member_id', 'funded_amnt', 'funded_amnt_inv', \n",
    "                              'grade', 'sub_grade', 'emp_title'], axis =1)\n",
    "test = test.drop(['id', 'member_id', 'funded_amnt', 'funded_amnt_inv', \n",
    "                              'grade', 'sub_grade', 'emp_title'], axis =1)\n"
   ]
  },
  {
   "cell_type": "code",
   "execution_count": 82,
   "metadata": {},
   "outputs": [],
   "source": [
    "#they tell how the repayment is going,again future values after loan is approved;and late fee is interest late again future data\n",
    "train = train.drop(['out_prncp', 'out_prncp_inv', 'total_pymnt', 'total_pymnt_inv',\n",
    "                              'total_rec_prncp', 'total_rec_int', 'total_rec_late_fee'], axis =1)\n",
    "test=test.drop(['out_prncp', 'out_prncp_inv', 'total_pymnt', 'total_pymnt_inv',\n",
    "                              'total_rec_prncp', 'total_rec_int', 'total_rec_late_fee'], axis =1)"
   ]
  },
  {
   "cell_type": "code",
   "execution_count": 83,
   "metadata": {},
   "outputs": [
    {
     "name": "stdout",
     "output_type": "stream",
     "text": [
      "36\n",
      "36\n"
     ]
    }
   ],
   "source": [
    "print(len(test.columns))\n",
    "print(len(train.columns))"
   ]
  },
  {
   "cell_type": "code",
   "execution_count": 84,
   "metadata": {},
   "outputs": [],
   "source": [
    "# last_pymnt_d and last_pmyny_amnt are the end repayment/last payment received, which means we cannot know that in advance\n",
    "#recoveries-post charge off gross recovery again about futre\n",
    "train = train.drop(['recoveries', 'collection_recovery_fee', \n",
    "                              'last_pymnt_d', 'last_pymnt_amnt'], axis =1)\n",
    "test=test.drop(['recoveries', 'collection_recovery_fee', \n",
    "                              'last_pymnt_d', 'last_pymnt_amnt'], axis =1)"
   ]
  },
  {
   "cell_type": "code",
   "execution_count": 85,
   "metadata": {},
   "outputs": [
    {
     "data": {
      "text/plain": [
       "(34033, 32)"
      ]
     },
     "execution_count": 85,
     "metadata": {},
     "output_type": "execute_result"
    }
   ],
   "source": [
    "train.shape"
   ]
  },
  {
   "cell_type": "code",
   "execution_count": 86,
   "metadata": {},
   "outputs": [
    {
     "data": {
      "text/plain": [
       "Fully Paid                                             27302\n",
       "Charged Off                                             4497\n",
       "Does not meet the credit policy. Status:Fully Paid      1583\n",
       "Does not meet the credit policy. Status:Charged Off      616\n",
       "Current                                                   14\n",
       "Late (31-120 days)                                         7\n",
       "In Grace Period                                            7\n",
       "Late (16-30 days)                                          1\n",
       "Default                                                    1\n",
       "Name: loan_status, dtype: int64"
      ]
     },
     "execution_count": 86,
     "metadata": {},
     "output_type": "execute_result"
    }
   ],
   "source": [
    "#target column-we want to predict the loan status which can take many values (9) in total.\n",
    "train['loan_status'].value_counts()"
   ]
  },
  {
   "cell_type": "code",
   "execution_count": 87,
   "metadata": {},
   "outputs": [
    {
     "data": {
      "image/png": "[encoded data removed]",
      "text/plain": [
       "<Figure size 432x288 with 1 Axes>"
      ]
     },
     "metadata": {
      "needs_background": "light"
     },
     "output_type": "display_data"
    }
   ],
   "source": [
    "#plot\n",
    "train['loan_status'].value_counts().plot(kind= 'barh', color = 'blue', title = 'Loan Status', alpha = 0.75)\n",
    "plt.show()"
   ]
  },
  {
   "cell_type": "code",
   "execution_count": 89,
   "metadata": {},
   "outputs": [],
   "source": [
    "#only considering 2 vales for classification;removing rest\n",
    "train = train[(train['loan_status'] == \"Fully Paid\") | (train['loan_status'] == \"Charged Off\")]\n",
    "test=test[(test['loan_status'] == \"Fully Paid\") | (test['loan_status'] == \"Charged Off\")]"
   ]
  },
  {
   "cell_type": "code",
   "execution_count": 90,
   "metadata": {},
   "outputs": [
    {
     "data": {
      "image/png": "[encoded data removed]",
      "text/plain": [
       "<Figure size 432x288 with 1 Axes>"
      ]
     },
     "metadata": {
      "needs_background": "light"
     },
     "output_type": "display_data"
    }
   ],
   "source": [
    "#final plot of loan status\n",
    "train['loan_status'].value_counts().plot(kind= 'barh', color = 'orange', title = 'Simplified Possible Loan Status')\n",
    "plt.show()"
   ]
  },
  {
   "cell_type": "code",
   "execution_count": 92,
   "metadata": {},
   "outputs": [
    {
     "data": {
      "text/plain": [
       "(31799, 32)"
      ]
     },
     "execution_count": 92,
     "metadata": {},
     "output_type": "execute_result"
    }
   ],
   "source": [
    "train.shape# we have removed all rows where status is apart from fully charge or charged off"
   ]
  },
  {
   "cell_type": "code",
   "execution_count": 95,
   "metadata": {},
   "outputs": [
    {
     "data": {
      "text/plain": [
       "1    27302\n",
       "0     4497\n",
       "Name: loan_status, dtype: int64"
      ]
     },
     "execution_count": 95,
     "metadata": {},
     "output_type": "execute_result"
    }
   ],
   "source": [
    "\n",
    "#convert categorical to numeic;loan_status is object type so first convert to category type\n",
    "train['loan_status']= train['loan_status'].astype('category')\n",
    "\n",
    "train['loan_status'] = train['loan_status'].cat.codes\n",
    "train['loan_status'].value_counts()"
   ]
  },
  {
   "cell_type": "code",
   "execution_count": 96,
   "metadata": {},
   "outputs": [
    {
     "data": {
      "text/plain": [
       "1    6783\n",
       "0    1165\n",
       "Name: loan_status, dtype: int64"
      ]
     },
     "execution_count": 96,
     "metadata": {},
     "output_type": "execute_result"
    }
   ],
   "source": [
    "test['loan_status']= test['loan_status'].astype('category')\n",
    "\n",
    "test['loan_status'] = test['loan_status'].cat.codes\n",
    "test['loan_status'].value_counts()"
   ]
  },
  {
   "cell_type": "code",
   "execution_count": 97,
   "metadata": {},
   "outputs": [
    {
     "data": {
      "text/plain": [
       "(31799, 32)"
      ]
     },
     "execution_count": 97,
     "metadata": {},
     "output_type": "execute_result"
    }
   ],
   "source": [
    "train.shape"
   ]
  },
  {
   "cell_type": "code",
   "execution_count": 98,
   "metadata": {},
   "outputs": [
    {
     "data": {
      "text/plain": [
       "['pymnt_plan',\n",
       " 'initial_list_status',\n",
       " 'collections_12_mths_ex_med',\n",
       " 'policy_code',\n",
       " 'application_type',\n",
       " 'acc_now_delinq',\n",
       " 'chargeoff_within_12_mths',\n",
       " 'delinq_amnt',\n",
       " 'tax_liens']"
      ]
     },
     "execution_count": 98,
     "metadata": {},
     "output_type": "execute_result"
    }
   ],
   "source": [
    "orig_columns = train.columns\n",
    "drop_columns = []\n",
    "for col in orig_columns:\n",
    "    col_series = train[col].dropna().unique()\n",
    "    if len(col_series) == 1:\n",
    "        drop_columns.append(col)\n",
    "train = train.drop(drop_columns, axis = 1)\n",
    "test=test.drop(drop_columns,axis=1)\n",
    "drop_columns"
   ]
  },
  {
   "cell_type": "code",
   "execution_count": 99,
   "metadata": {},
   "outputs": [
    {
     "data": {
      "text/plain": [
       "loan_amnt                 0\n",
       "term                      0\n",
       "int_rate                  0\n",
       "installment               0\n",
       "emp_length              865\n",
       "home_ownership            0\n",
       "annual_inc                0\n",
       "verification_status       0\n",
       "loan_status               0\n",
       "purpose                   0\n",
       "title                     9\n",
       "addr_state                0\n",
       "dti                       0\n",
       "delinq_2yrs               0\n",
       "earliest_cr_line          0\n",
       "inq_last_6mths            0\n",
       "open_acc                  0\n",
       "pub_rec                   0\n",
       "revol_bal                 0\n",
       "revol_util               39\n",
       "total_acc                 0\n",
       "last_credit_pull_d        2\n",
       "pub_rec_bankruptcies    573\n",
       "dtype: int64"
      ]
     },
     "execution_count": 99,
     "metadata": {},
     "output_type": "execute_result"
    }
   ],
   "source": [
    "null_counts = train.isnull().sum()\n",
    "null_counts"
   ]
  },
  {
   "cell_type": "code",
   "execution_count": 100,
   "metadata": {},
   "outputs": [],
   "source": [
    "train = train.drop(\"pub_rec_bankruptcies\", axis=1)\n",
    "test = test.drop(\"pub_rec_bankruptcies\", axis=1)\n",
    "train = train.drop(\"emp_length\", axis=1)\n",
    "test = test.drop(\"emp_length\", axis=1)"
   ]
  },
  {
   "cell_type": "code",
   "execution_count": 105,
   "metadata": {},
   "outputs": [
    {
     "data": {
      "text/plain": [
       "(31799, 21)"
      ]
     },
     "execution_count": 105,
     "metadata": {},
     "output_type": "execute_result"
    }
   ],
   "source": [
    "train.shape"
   ]
  },
  {
   "cell_type": "code",
   "execution_count": 106,
   "metadata": {},
   "outputs": [
    {
     "name": "stdout",
     "output_type": "stream",
     "text": [
      "float64     11\n",
      "category     1\n",
      "category     1\n",
      "category     1\n",
      "category     1\n",
      "int8         1\n",
      "category     1\n",
      "category     1\n",
      "category     1\n",
      "category     1\n",
      "category     1\n",
      "dtype: int64\n"
     ]
    }
   ],
   "source": [
    "print(train.dtypes.value_counts())"
   ]
  },
  {
   "cell_type": "code",
   "execution_count": 108,
   "metadata": {},
   "outputs": [
    {
     "name": "stdout",
     "output_type": "stream",
     "text": [
      "Series([], Name: 17098, dtype: float64)\n"
     ]
    }
   ],
   "source": [
    "object_columns_df = train.select_dtypes(include=[\"object\"])\n",
    "print(object_columns_df.iloc[0])"
   ]
  },
  {
   "cell_type": "code",
   "execution_count": 109,
   "metadata": {},
   "outputs": [
    {
     "name": "stdout",
     "output_type": "stream",
     "text": [
      " 36 months    23266\n",
      " 60 months     8533\n",
      "Name: term, dtype: int64\n",
      "\n",
      "\n",
      "RENT        15122\n",
      "MORTGAGE    14145\n",
      "OWN          2451\n",
      "OTHER          78\n",
      "NONE            3\n",
      "Name: home_ownership, dtype: int64\n",
      "\n",
      "\n",
      "Not Verified       13490\n",
      "Verified           10304\n",
      "Source Verified     8005\n",
      "Name: verification_status, dtype: int64\n",
      "\n",
      "\n",
      "CA    5719\n",
      "NY    3005\n",
      "FL    2261\n",
      "TX    2209\n",
      "NJ    1472\n",
      "PA    1240\n",
      "IL    1238\n",
      "VA    1171\n",
      "GA    1131\n",
      "MA    1080\n",
      "OH     971\n",
      "MD     854\n",
      "AZ     699\n",
      "WA     662\n",
      "CO     642\n",
      "NC     623\n",
      "CT     579\n",
      "MI     577\n",
      "MO     557\n",
      "MN     484\n",
      "NV     399\n",
      "SC     381\n",
      "WI     359\n",
      "AL     357\n",
      "LA     349\n",
      "OR     348\n",
      "KY     252\n",
      "OK     245\n",
      "KS     218\n",
      "UT     211\n",
      "AR     192\n",
      "DC     173\n",
      "NM     154\n",
      "RI     152\n",
      "HI     144\n",
      "WV     142\n",
      "NH     127\n",
      "DE      83\n",
      "AK      70\n",
      "MT      65\n",
      "WY      64\n",
      "SD      46\n",
      "VT      46\n",
      "MS      13\n",
      "TN      13\n",
      "IN       9\n",
      "IA       4\n",
      "ID       3\n",
      "ME       3\n",
      "NE       3\n",
      "Name: addr_state, dtype: int64\n",
      "\n",
      "\n",
      "debt_consolidation    14902\n",
      "credit_card            4199\n",
      "other                  3172\n",
      "home_improvement       2372\n",
      "major_purchase         1728\n",
      "small_business         1480\n",
      "car                    1233\n",
      "wedding                 755\n",
      "medical                 541\n",
      "moving                  471\n",
      "house                   307\n",
      "vacation                299\n",
      "educational             252\n",
      "renewable_energy         88\n",
      "Name: purpose, dtype: int64\n",
      "\n",
      "\n",
      "Debt Consolidation                            1748\n",
      "Debt Consolidation Loan                       1391\n",
      "Personal Loan                                  523\n",
      "Consolidation                                  421\n",
      "debt consolidation                             410\n",
      "Credit Card Consolidation                      294\n",
      "Home Improvement                               286\n",
      "Debt consolidation                             271\n",
      "Personal                                       260\n",
      "Small Business Loan                            259\n",
      "Credit Card Loan                               259\n",
      "Consolidation Loan                             202\n",
      "Home Improvement Loan                          189\n",
      "personal loan                                  188\n",
      "Loan                                           178\n",
      "consolidation                                  173\n",
      "personal                                       173\n",
      "Wedding Loan                                   171\n",
      "Car Loan                                       168\n",
      "Other Loan                                     156\n",
      "Credit Card Payoff                             126\n",
      "Wedding                                        122\n",
      "Credit Card Refinance                          116\n",
      "Major Purchase Loan                            112\n",
      "Consolidate                                     99\n",
      "Credit Card                                     94\n",
      "Medical                                         93\n",
      "home improvement                                89\n",
      "My Loan                                         73\n",
      "Debt                                            68\n",
      "                                              ... \n",
      "Apartment Complex                                0\n",
      "Inventory for Small Business in California       0\n",
      "Party Store                                      0\n",
      "Consolidation for Employed Student               0\n",
      "Career Training Loan                             0\n",
      "Career Training Loan                             0\n",
      "general purpose                                  0\n",
      "Time to Get on Track                             0\n",
      "NEED HELP!!                                      0\n",
      "LAWYER FEES                                      0\n",
      "Debt Consolidadtion                              0\n",
      "Family Affair                                    0\n",
      "pay credit cards/get bus financing               0\n",
      "Recent college grad buying 1st car!              0\n",
      "ac bust out                                      0\n",
      "Replace Air Conditioning                         0\n",
      "Recent college grad needs to get around          0\n",
      "Angela's consolidation loan                      0\n",
      "Pay off Rate-Hiked Cards                         0\n",
      "Debt Consoldiation & Purchase Inventory          0\n",
      "pay bills                                        0\n",
      "jgmn                                             0\n",
      "debt refi                                        0\n",
      "Tight situation                                  0\n",
      "Holiday bills                                    0\n",
      "NEED A LOAN                                      0\n",
      "abc                                              0\n",
      "pay all debts                                    0\n",
      "NEED A QUICK LOAN / CAR + MOVING EXPENSE         0\n",
      "Wedding credit card debt                         0\n",
      "Name: title, Length: 17315, dtype: int64\n",
      "\n",
      "\n"
     ]
    }
   ],
   "source": [
    "#to check which columns can becategorical values to be encoded\n",
    "columns = ['term','home_ownership','verification_status','addr_state','purpose','title']\n",
    "for col in columns:\n",
    "    print(train[col].value_counts())\n",
    "    print('\\n')"
   ]
  },
  {
   "cell_type": "code",
   "execution_count": 120,
   "metadata": {},
   "outputs": [
    {
     "data": {
      "text/plain": [
       "(7948, 4)"
      ]
     },
     "execution_count": 120,
     "metadata": {},
     "output_type": "execute_result"
    }
   ],
   "source": [
    "#title and address not categorical;large values\n",
    "categorical_dataset = train[[\"term\",\"home_ownership\",\"verification_status\",\"purpose\"]]\n",
    "categorical_dataset_test=test[[\"term\",\"home_ownership\",\"verification_status\",\"purpose\"]]\n",
    "categorical_dataset_test.shape"
   ]
  },
  {
   "cell_type": "code",
   "execution_count": 113,
   "metadata": {},
   "outputs": [
    {
     "data": {
      "text/html": [
       "<div>\n",
       "<style scoped>\n",
       "    .dataframe tbody tr th:only-of-type {\n",
       "        vertical-align: middle;\n",
       "    }\n",
       "\n",
       "    .dataframe tbody tr th {\n",
       "        vertical-align: top;\n",
       "    }\n",
       "\n",
       "    .dataframe thead th {\n",
       "        text-align: right;\n",
       "    }\n",
       "</style>\n",
       "<table border=\"1\" class=\"dataframe\">\n",
       "  <thead>\n",
       "    <tr style=\"text-align: right;\">\n",
       "      <th></th>\n",
       "      <th>term</th>\n",
       "      <th>home_ownership</th>\n",
       "      <th>verification_status</th>\n",
       "      <th>purpose</th>\n",
       "    </tr>\n",
       "  </thead>\n",
       "  <tbody>\n",
       "    <tr>\n",
       "      <th>17098</th>\n",
       "      <td>1</td>\n",
       "      <td>0</td>\n",
       "      <td>2</td>\n",
       "      <td>2</td>\n",
       "    </tr>\n",
       "    <tr>\n",
       "      <th>26555</th>\n",
       "      <td>0</td>\n",
       "      <td>0</td>\n",
       "      <td>2</td>\n",
       "      <td>11</td>\n",
       "    </tr>\n",
       "    <tr>\n",
       "      <th>22050</th>\n",
       "      <td>0</td>\n",
       "      <td>0</td>\n",
       "      <td>2</td>\n",
       "      <td>2</td>\n",
       "    </tr>\n",
       "    <tr>\n",
       "      <th>2926</th>\n",
       "      <td>0</td>\n",
       "      <td>0</td>\n",
       "      <td>2</td>\n",
       "      <td>2</td>\n",
       "    </tr>\n",
       "    <tr>\n",
       "      <th>22864</th>\n",
       "      <td>1</td>\n",
       "      <td>0</td>\n",
       "      <td>2</td>\n",
       "      <td>2</td>\n",
       "    </tr>\n",
       "    <tr>\n",
       "      <th>38039</th>\n",
       "      <td>0</td>\n",
       "      <td>4</td>\n",
       "      <td>0</td>\n",
       "      <td>8</td>\n",
       "    </tr>\n",
       "    <tr>\n",
       "      <th>36634</th>\n",
       "      <td>0</td>\n",
       "      <td>0</td>\n",
       "      <td>2</td>\n",
       "      <td>9</td>\n",
       "    </tr>\n",
       "    <tr>\n",
       "      <th>27162</th>\n",
       "      <td>0</td>\n",
       "      <td>0</td>\n",
       "      <td>0</td>\n",
       "      <td>9</td>\n",
       "    </tr>\n",
       "    <tr>\n",
       "      <th>19688</th>\n",
       "      <td>1</td>\n",
       "      <td>0</td>\n",
       "      <td>2</td>\n",
       "      <td>2</td>\n",
       "    </tr>\n",
       "    <tr>\n",
       "      <th>29079</th>\n",
       "      <td>1</td>\n",
       "      <td>4</td>\n",
       "      <td>1</td>\n",
       "      <td>9</td>\n",
       "    </tr>\n",
       "    <tr>\n",
       "      <th>18943</th>\n",
       "      <td>0</td>\n",
       "      <td>0</td>\n",
       "      <td>2</td>\n",
       "      <td>1</td>\n",
       "    </tr>\n",
       "    <tr>\n",
       "      <th>33218</th>\n",
       "      <td>0</td>\n",
       "      <td>4</td>\n",
       "      <td>0</td>\n",
       "      <td>2</td>\n",
       "    </tr>\n",
       "    <tr>\n",
       "      <th>6440</th>\n",
       "      <td>0</td>\n",
       "      <td>4</td>\n",
       "      <td>2</td>\n",
       "      <td>1</td>\n",
       "    </tr>\n",
       "    <tr>\n",
       "      <th>655</th>\n",
       "      <td>1</td>\n",
       "      <td>4</td>\n",
       "      <td>2</td>\n",
       "      <td>1</td>\n",
       "    </tr>\n",
       "    <tr>\n",
       "      <th>3416</th>\n",
       "      <td>0</td>\n",
       "      <td>4</td>\n",
       "      <td>2</td>\n",
       "      <td>2</td>\n",
       "    </tr>\n",
       "    <tr>\n",
       "      <th>21393</th>\n",
       "      <td>0</td>\n",
       "      <td>4</td>\n",
       "      <td>1</td>\n",
       "      <td>11</td>\n",
       "    </tr>\n",
       "    <tr>\n",
       "      <th>32712</th>\n",
       "      <td>0</td>\n",
       "      <td>0</td>\n",
       "      <td>0</td>\n",
       "      <td>2</td>\n",
       "    </tr>\n",
       "    <tr>\n",
       "      <th>26947</th>\n",
       "      <td>1</td>\n",
       "      <td>4</td>\n",
       "      <td>2</td>\n",
       "      <td>11</td>\n",
       "    </tr>\n",
       "    <tr>\n",
       "      <th>19540</th>\n",
       "      <td>0</td>\n",
       "      <td>4</td>\n",
       "      <td>1</td>\n",
       "      <td>2</td>\n",
       "    </tr>\n",
       "    <tr>\n",
       "      <th>28523</th>\n",
       "      <td>0</td>\n",
       "      <td>4</td>\n",
       "      <td>1</td>\n",
       "      <td>9</td>\n",
       "    </tr>\n",
       "    <tr>\n",
       "      <th>34807</th>\n",
       "      <td>0</td>\n",
       "      <td>0</td>\n",
       "      <td>0</td>\n",
       "      <td>2</td>\n",
       "    </tr>\n",
       "    <tr>\n",
       "      <th>6454</th>\n",
       "      <td>0</td>\n",
       "      <td>0</td>\n",
       "      <td>2</td>\n",
       "      <td>2</td>\n",
       "    </tr>\n",
       "    <tr>\n",
       "      <th>38263</th>\n",
       "      <td>0</td>\n",
       "      <td>4</td>\n",
       "      <td>2</td>\n",
       "      <td>1</td>\n",
       "    </tr>\n",
       "    <tr>\n",
       "      <th>32258</th>\n",
       "      <td>0</td>\n",
       "      <td>4</td>\n",
       "      <td>0</td>\n",
       "      <td>9</td>\n",
       "    </tr>\n",
       "    <tr>\n",
       "      <th>34749</th>\n",
       "      <td>0</td>\n",
       "      <td>0</td>\n",
       "      <td>0</td>\n",
       "      <td>2</td>\n",
       "    </tr>\n",
       "    <tr>\n",
       "      <th>2923</th>\n",
       "      <td>0</td>\n",
       "      <td>0</td>\n",
       "      <td>1</td>\n",
       "      <td>0</td>\n",
       "    </tr>\n",
       "    <tr>\n",
       "      <th>1957</th>\n",
       "      <td>0</td>\n",
       "      <td>4</td>\n",
       "      <td>0</td>\n",
       "      <td>9</td>\n",
       "    </tr>\n",
       "    <tr>\n",
       "      <th>21520</th>\n",
       "      <td>1</td>\n",
       "      <td>3</td>\n",
       "      <td>0</td>\n",
       "      <td>7</td>\n",
       "    </tr>\n",
       "    <tr>\n",
       "      <th>31990</th>\n",
       "      <td>0</td>\n",
       "      <td>4</td>\n",
       "      <td>0</td>\n",
       "      <td>6</td>\n",
       "    </tr>\n",
       "    <tr>\n",
       "      <th>7698</th>\n",
       "      <td>1</td>\n",
       "      <td>0</td>\n",
       "      <td>1</td>\n",
       "      <td>9</td>\n",
       "    </tr>\n",
       "    <tr>\n",
       "      <th>...</th>\n",
       "      <td>...</td>\n",
       "      <td>...</td>\n",
       "      <td>...</td>\n",
       "      <td>...</td>\n",
       "    </tr>\n",
       "    <tr>\n",
       "      <th>9349</th>\n",
       "      <td>0</td>\n",
       "      <td>0</td>\n",
       "      <td>0</td>\n",
       "      <td>0</td>\n",
       "    </tr>\n",
       "    <tr>\n",
       "      <th>6415</th>\n",
       "      <td>1</td>\n",
       "      <td>4</td>\n",
       "      <td>1</td>\n",
       "      <td>9</td>\n",
       "    </tr>\n",
       "    <tr>\n",
       "      <th>17202</th>\n",
       "      <td>0</td>\n",
       "      <td>0</td>\n",
       "      <td>0</td>\n",
       "      <td>4</td>\n",
       "    </tr>\n",
       "    <tr>\n",
       "      <th>9282</th>\n",
       "      <td>1</td>\n",
       "      <td>4</td>\n",
       "      <td>1</td>\n",
       "      <td>11</td>\n",
       "    </tr>\n",
       "    <tr>\n",
       "      <th>18663</th>\n",
       "      <td>0</td>\n",
       "      <td>0</td>\n",
       "      <td>2</td>\n",
       "      <td>2</td>\n",
       "    </tr>\n",
       "    <tr>\n",
       "      <th>7963</th>\n",
       "      <td>0</td>\n",
       "      <td>0</td>\n",
       "      <td>0</td>\n",
       "      <td>2</td>\n",
       "    </tr>\n",
       "    <tr>\n",
       "      <th>96</th>\n",
       "      <td>1</td>\n",
       "      <td>0</td>\n",
       "      <td>2</td>\n",
       "      <td>2</td>\n",
       "    </tr>\n",
       "    <tr>\n",
       "      <th>601</th>\n",
       "      <td>0</td>\n",
       "      <td>0</td>\n",
       "      <td>0</td>\n",
       "      <td>7</td>\n",
       "    </tr>\n",
       "    <tr>\n",
       "      <th>38454</th>\n",
       "      <td>0</td>\n",
       "      <td>4</td>\n",
       "      <td>2</td>\n",
       "      <td>3</td>\n",
       "    </tr>\n",
       "    <tr>\n",
       "      <th>3024</th>\n",
       "      <td>1</td>\n",
       "      <td>3</td>\n",
       "      <td>1</td>\n",
       "      <td>2</td>\n",
       "    </tr>\n",
       "    <tr>\n",
       "      <th>7082</th>\n",
       "      <td>1</td>\n",
       "      <td>0</td>\n",
       "      <td>2</td>\n",
       "      <td>2</td>\n",
       "    </tr>\n",
       "    <tr>\n",
       "      <th>34102</th>\n",
       "      <td>0</td>\n",
       "      <td>4</td>\n",
       "      <td>0</td>\n",
       "      <td>2</td>\n",
       "    </tr>\n",
       "    <tr>\n",
       "      <th>10433</th>\n",
       "      <td>0</td>\n",
       "      <td>4</td>\n",
       "      <td>1</td>\n",
       "      <td>2</td>\n",
       "    </tr>\n",
       "    <tr>\n",
       "      <th>3046</th>\n",
       "      <td>1</td>\n",
       "      <td>0</td>\n",
       "      <td>2</td>\n",
       "      <td>11</td>\n",
       "    </tr>\n",
       "    <tr>\n",
       "      <th>12353</th>\n",
       "      <td>0</td>\n",
       "      <td>0</td>\n",
       "      <td>1</td>\n",
       "      <td>2</td>\n",
       "    </tr>\n",
       "    <tr>\n",
       "      <th>18508</th>\n",
       "      <td>1</td>\n",
       "      <td>0</td>\n",
       "      <td>1</td>\n",
       "      <td>5</td>\n",
       "    </tr>\n",
       "    <tr>\n",
       "      <th>13684</th>\n",
       "      <td>0</td>\n",
       "      <td>0</td>\n",
       "      <td>2</td>\n",
       "      <td>1</td>\n",
       "    </tr>\n",
       "    <tr>\n",
       "      <th>20087</th>\n",
       "      <td>0</td>\n",
       "      <td>4</td>\n",
       "      <td>2</td>\n",
       "      <td>2</td>\n",
       "    </tr>\n",
       "    <tr>\n",
       "      <th>3483</th>\n",
       "      <td>0</td>\n",
       "      <td>3</td>\n",
       "      <td>1</td>\n",
       "      <td>2</td>\n",
       "    </tr>\n",
       "    <tr>\n",
       "      <th>18870</th>\n",
       "      <td>1</td>\n",
       "      <td>4</td>\n",
       "      <td>1</td>\n",
       "      <td>2</td>\n",
       "    </tr>\n",
       "    <tr>\n",
       "      <th>7366</th>\n",
       "      <td>0</td>\n",
       "      <td>0</td>\n",
       "      <td>1</td>\n",
       "      <td>4</td>\n",
       "    </tr>\n",
       "    <tr>\n",
       "      <th>9322</th>\n",
       "      <td>1</td>\n",
       "      <td>0</td>\n",
       "      <td>1</td>\n",
       "      <td>2</td>\n",
       "    </tr>\n",
       "    <tr>\n",
       "      <th>1997</th>\n",
       "      <td>1</td>\n",
       "      <td>0</td>\n",
       "      <td>2</td>\n",
       "      <td>9</td>\n",
       "    </tr>\n",
       "    <tr>\n",
       "      <th>8856</th>\n",
       "      <td>0</td>\n",
       "      <td>4</td>\n",
       "      <td>2</td>\n",
       "      <td>8</td>\n",
       "    </tr>\n",
       "    <tr>\n",
       "      <th>22165</th>\n",
       "      <td>0</td>\n",
       "      <td>3</td>\n",
       "      <td>1</td>\n",
       "      <td>2</td>\n",
       "    </tr>\n",
       "    <tr>\n",
       "      <th>21991</th>\n",
       "      <td>0</td>\n",
       "      <td>3</td>\n",
       "      <td>0</td>\n",
       "      <td>2</td>\n",
       "    </tr>\n",
       "    <tr>\n",
       "      <th>34844</th>\n",
       "      <td>0</td>\n",
       "      <td>4</td>\n",
       "      <td>0</td>\n",
       "      <td>1</td>\n",
       "    </tr>\n",
       "    <tr>\n",
       "      <th>24681</th>\n",
       "      <td>0</td>\n",
       "      <td>0</td>\n",
       "      <td>0</td>\n",
       "      <td>9</td>\n",
       "    </tr>\n",
       "    <tr>\n",
       "      <th>31562</th>\n",
       "      <td>0</td>\n",
       "      <td>0</td>\n",
       "      <td>2</td>\n",
       "      <td>1</td>\n",
       "    </tr>\n",
       "    <tr>\n",
       "      <th>255</th>\n",
       "      <td>0</td>\n",
       "      <td>4</td>\n",
       "      <td>1</td>\n",
       "      <td>1</td>\n",
       "    </tr>\n",
       "  </tbody>\n",
       "</table>\n",
       "<p>31799 rows × 4 columns</p>\n",
       "</div>"
      ],
      "text/plain": [
       "       term  home_ownership  verification_status  purpose\n",
       "17098     1               0                    2        2\n",
       "26555     0               0                    2       11\n",
       "22050     0               0                    2        2\n",
       "2926      0               0                    2        2\n",
       "22864     1               0                    2        2\n",
       "38039     0               4                    0        8\n",
       "36634     0               0                    2        9\n",
       "27162     0               0                    0        9\n",
       "19688     1               0                    2        2\n",
       "29079     1               4                    1        9\n",
       "18943     0               0                    2        1\n",
       "33218     0               4                    0        2\n",
       "6440      0               4                    2        1\n",
       "655       1               4                    2        1\n",
       "3416      0               4                    2        2\n",
       "21393     0               4                    1       11\n",
       "32712     0               0                    0        2\n",
       "26947     1               4                    2       11\n",
       "19540     0               4                    1        2\n",
       "28523     0               4                    1        9\n",
       "34807     0               0                    0        2\n",
       "6454      0               0                    2        2\n",
       "38263     0               4                    2        1\n",
       "32258     0               4                    0        9\n",
       "34749     0               0                    0        2\n",
       "2923      0               0                    1        0\n",
       "1957      0               4                    0        9\n",
       "21520     1               3                    0        7\n",
       "31990     0               4                    0        6\n",
       "7698      1               0                    1        9\n",
       "...     ...             ...                  ...      ...\n",
       "9349      0               0                    0        0\n",
       "6415      1               4                    1        9\n",
       "17202     0               0                    0        4\n",
       "9282      1               4                    1       11\n",
       "18663     0               0                    2        2\n",
       "7963      0               0                    0        2\n",
       "96        1               0                    2        2\n",
       "601       0               0                    0        7\n",
       "38454     0               4                    2        3\n",
       "3024      1               3                    1        2\n",
       "7082      1               0                    2        2\n",
       "34102     0               4                    0        2\n",
       "10433     0               4                    1        2\n",
       "3046      1               0                    2       11\n",
       "12353     0               0                    1        2\n",
       "18508     1               0                    1        5\n",
       "13684     0               0                    2        1\n",
       "20087     0               4                    2        2\n",
       "3483      0               3                    1        2\n",
       "18870     1               4                    1        2\n",
       "7366      0               0                    1        4\n",
       "9322      1               0                    1        2\n",
       "1997      1               0                    2        9\n",
       "8856      0               4                    2        8\n",
       "22165     0               3                    1        2\n",
       "21991     0               3                    0        2\n",
       "34844     0               4                    0        1\n",
       "24681     0               0                    0        9\n",
       "31562     0               0                    2        1\n",
       "255       0               4                    1        1\n",
       "\n",
       "[31799 rows x 4 columns]"
      ]
     },
     "execution_count": 113,
     "metadata": {},
     "output_type": "execute_result"
    }
   ],
   "source": [
    "from sklearn.preprocessing import LabelEncoder\n",
    "encoder = LabelEncoder()\n",
    "\n",
    "traincat = categorical_dataset.apply(encoder.fit_transform)\n",
    "testcat=categorical_dataset_test.apply(encoder.fit_transform)\n",
    "traincat"
   ]
  },
  {
   "cell_type": "code",
   "execution_count": 114,
   "metadata": {},
   "outputs": [],
   "source": [
    "#dates h last and earliest wale-toh remove hoga and title and addr bhot zyaada and useless data\n",
    "train = train.drop([\"last_credit_pull_d\", \"earliest_cr_line\", \"addr_state\", \"title\"], axis=1)\n",
    "test=test.drop([\"last_credit_pull_d\", \"earliest_cr_line\", \"addr_state\", \"title\"], axis=1)\n",
    "train[\"revol_util\"] = train[\"revol_util\"].str.rstrip(\"%\").astype(\"float\")\n",
    "test[\"revol_util\"]= test[\"revol_util\"].str.rstrip(\"%\").astype(\"float\")"
   ]
  },
  {
   "cell_type": "code",
   "execution_count": 140,
   "metadata": {},
   "outputs": [
    {
     "name": "stdout",
     "output_type": "stream",
     "text": [
      "Index(['loan_amnt', 'term', 'int_rate', 'installment', 'home_ownership',\n",
      "       'annual_inc', 'verification_status', 'loan_status', 'purpose', 'dti',\n",
      "       'delinq_2yrs', 'inq_last_6mths', 'open_acc', 'pub_rec', 'revol_bal',\n",
      "       'revol_util', 'total_acc'],\n",
      "      dtype='object')\n"
     ]
    }
   ],
   "source": [
    "print(test.columns)"
   ]
  },
  {
   "cell_type": "code",
   "execution_count": 142,
   "metadata": {},
   "outputs": [
    {
     "name": "stdout",
     "output_type": "stream",
     "text": [
      "[[2.0000e+04 1.9360e-01 5.2279e+02 ... 0.0000e+00 2.0000e+00 2.0000e+00]\n",
      " [6.2500e+03 7.1400e-02 1.9339e+02 ... 0.0000e+00 2.0000e+00 1.1000e+01]\n",
      " [2.2000e+04 6.1700e-02 6.7098e+02 ... 0.0000e+00 2.0000e+00 2.0000e+00]\n",
      " ...\n",
      " [1.2000e+04 7.5100e-02 3.7333e+02 ... 0.0000e+00 0.0000e+00 9.0000e+00]\n",
      " [1.5000e+04 1.0250e-01 4.8578e+02 ... 0.0000e+00 2.0000e+00 1.0000e+00]\n",
      " [1.0000e+04 1.2420e-01 3.3416e+02 ... 4.0000e+00 1.0000e+00 1.0000e+00]]\n",
      "Index(['loan_amnt', 'int_rate', 'installment', 'annual_inc', 'dti',\n",
      "       'delinq_2yrs', 'inq_last_6mths', 'open_acc', 'pub_rec', 'revol_bal',\n",
      "       'revol_util', 'total_acc'],\n",
      "      dtype='object')\n"
     ]
    }
   ],
   "source": [
    "X_traindf = train.select_dtypes(include=['float64','int64'])\n",
    "classcol = pd.concat([X_traindf, traincat], axis=1).columns\n",
    "#test set\n",
    "test['int_rate']=test['int_rate'].str.rstrip('%').astype('float')/100.0\n",
    "X_testdf=test.select_dtypes(include=['float64','int64'])\n",
    "\n",
    "classcol_test = pd.concat([X_testdf, testcat], axis=1).columns\n",
    "refclass = np.concatenate((X_traindf.values, traincat.values), axis=1)\n",
    "print(refclass)\n",
    "X=refclass\n",
    "print(X_testdf.columns)"
   ]
  },
  {
   "cell_type": "code",
   "execution_count": 143,
   "metadata": {},
   "outputs": [
    {
     "data": {
      "text/plain": [
       "Index(['loan_amnt', 'int_rate', 'installment', 'annual_inc', 'dti',\n",
       "       'delinq_2yrs', 'inq_last_6mths', 'open_acc', 'pub_rec', 'revol_bal',\n",
       "       'revol_util', 'total_acc'],\n",
       "      dtype='object')"
      ]
     },
     "execution_count": 143,
     "metadata": {},
     "output_type": "execute_result"
    }
   ],
   "source": [
    "X_testdf.columns"
   ]
  },
  {
   "cell_type": "code",
   "execution_count": 118,
   "metadata": {},
   "outputs": [
    {
     "data": {
      "text/plain": [
       "Index(['loan_amnt', 'int_rate', 'installment', 'annual_inc', 'dti',\n",
       "       'delinq_2yrs', 'inq_last_6mths', 'open_acc', 'pub_rec', 'revol_bal',\n",
       "       'revol_util', 'total_acc'],\n",
       "      dtype='object')"
      ]
     },
     "execution_count": 118,
     "metadata": {},
     "output_type": "execute_result"
    }
   ],
   "source": [
    "X_traindf.columns"
   ]
  },
  {
   "cell_type": "code",
   "execution_count": 144,
   "metadata": {},
   "outputs": [
    {
     "data": {
      "text/plain": [
       "Index(['term', 'home_ownership', 'verification_status', 'purpose', 'loan_amnt',\n",
       "       'int_rate', 'installment', 'annual_inc', 'dti', 'delinq_2yrs',\n",
       "       'inq_last_6mths', 'open_acc', 'pub_rec', 'revol_bal', 'revol_util',\n",
       "       'total_acc'],\n",
       "      dtype='object')"
      ]
     },
     "execution_count": 144,
     "metadata": {},
     "output_type": "execute_result"
    }
   ],
   "source": [
    "df_train=pd.concat([traincat,X_traindf],axis=1)\n",
    "df_test=pd.concat([testcat,X_testdf],axis=1)\n",
    "df_train.columns"
   ]
  },
  {
   "cell_type": "code",
   "execution_count": 145,
   "metadata": {},
   "outputs": [
    {
     "data": {
      "text/plain": [
       "Index(['term', 'home_ownership', 'verification_status', 'purpose', 'loan_amnt',\n",
       "       'int_rate', 'installment', 'annual_inc', 'dti', 'delinq_2yrs',\n",
       "       'inq_last_6mths', 'open_acc', 'pub_rec', 'revol_bal', 'revol_util',\n",
       "       'total_acc'],\n",
       "      dtype='object')"
      ]
     },
     "execution_count": 145,
     "metadata": {},
     "output_type": "execute_result"
    }
   ],
   "source": [
    "df_test.columns"
   ]
  },
  {
   "cell_type": "code",
   "execution_count": 123,
   "metadata": {},
   "outputs": [
    {
     "data": {
      "text/html": [
       "<div>\n",
       "<style scoped>\n",
       "    .dataframe tbody tr th:only-of-type {\n",
       "        vertical-align: middle;\n",
       "    }\n",
       "\n",
       "    .dataframe tbody tr th {\n",
       "        vertical-align: top;\n",
       "    }\n",
       "\n",
       "    .dataframe thead th {\n",
       "        text-align: right;\n",
       "    }\n",
       "</style>\n",
       "<table border=\"1\" class=\"dataframe\">\n",
       "  <thead>\n",
       "    <tr style=\"text-align: right;\">\n",
       "      <th></th>\n",
       "      <th>term</th>\n",
       "      <th>home_ownership</th>\n",
       "      <th>verification_status</th>\n",
       "      <th>purpose</th>\n",
       "      <th>loan_amnt</th>\n",
       "      <th>int_rate</th>\n",
       "      <th>installment</th>\n",
       "      <th>annual_inc</th>\n",
       "      <th>dti</th>\n",
       "      <th>delinq_2yrs</th>\n",
       "      <th>inq_last_6mths</th>\n",
       "      <th>open_acc</th>\n",
       "      <th>pub_rec</th>\n",
       "      <th>revol_bal</th>\n",
       "      <th>revol_util</th>\n",
       "      <th>total_acc</th>\n",
       "    </tr>\n",
       "  </thead>\n",
       "  <tbody>\n",
       "    <tr>\n",
       "      <th>17098</th>\n",
       "      <td>1</td>\n",
       "      <td>0</td>\n",
       "      <td>2</td>\n",
       "      <td>2</td>\n",
       "      <td>20000.0</td>\n",
       "      <td>0.1936</td>\n",
       "      <td>522.79</td>\n",
       "      <td>55000.0</td>\n",
       "      <td>22.10</td>\n",
       "      <td>0.0</td>\n",
       "      <td>0.0</td>\n",
       "      <td>25.0</td>\n",
       "      <td>0.0</td>\n",
       "      <td>20762.0</td>\n",
       "      <td>51.1</td>\n",
       "      <td>41.0</td>\n",
       "    </tr>\n",
       "    <tr>\n",
       "      <th>26555</th>\n",
       "      <td>0</td>\n",
       "      <td>0</td>\n",
       "      <td>2</td>\n",
       "      <td>11</td>\n",
       "      <td>6250.0</td>\n",
       "      <td>0.0714</td>\n",
       "      <td>193.39</td>\n",
       "      <td>43000.0</td>\n",
       "      <td>12.89</td>\n",
       "      <td>0.0</td>\n",
       "      <td>1.0</td>\n",
       "      <td>7.0</td>\n",
       "      <td>0.0</td>\n",
       "      <td>41.0</td>\n",
       "      <td>0.2</td>\n",
       "      <td>53.0</td>\n",
       "    </tr>\n",
       "    <tr>\n",
       "      <th>22050</th>\n",
       "      <td>0</td>\n",
       "      <td>0</td>\n",
       "      <td>2</td>\n",
       "      <td>2</td>\n",
       "      <td>22000.0</td>\n",
       "      <td>0.0617</td>\n",
       "      <td>670.98</td>\n",
       "      <td>90996.0</td>\n",
       "      <td>17.46</td>\n",
       "      <td>0.0</td>\n",
       "      <td>1.0</td>\n",
       "      <td>12.0</td>\n",
       "      <td>0.0</td>\n",
       "      <td>17888.0</td>\n",
       "      <td>32.3</td>\n",
       "      <td>30.0</td>\n",
       "    </tr>\n",
       "    <tr>\n",
       "      <th>2926</th>\n",
       "      <td>0</td>\n",
       "      <td>0</td>\n",
       "      <td>2</td>\n",
       "      <td>2</td>\n",
       "      <td>15000.0</td>\n",
       "      <td>0.1427</td>\n",
       "      <td>514.64</td>\n",
       "      <td>31200.0</td>\n",
       "      <td>5.54</td>\n",
       "      <td>0.0</td>\n",
       "      <td>0.0</td>\n",
       "      <td>5.0</td>\n",
       "      <td>0.0</td>\n",
       "      <td>2373.0</td>\n",
       "      <td>23.1</td>\n",
       "      <td>7.0</td>\n",
       "    </tr>\n",
       "    <tr>\n",
       "      <th>22864</th>\n",
       "      <td>1</td>\n",
       "      <td>0</td>\n",
       "      <td>2</td>\n",
       "      <td>2</td>\n",
       "      <td>19500.0</td>\n",
       "      <td>0.1706</td>\n",
       "      <td>485.26</td>\n",
       "      <td>53200.0</td>\n",
       "      <td>16.20</td>\n",
       "      <td>0.0</td>\n",
       "      <td>0.0</td>\n",
       "      <td>8.0</td>\n",
       "      <td>0.0</td>\n",
       "      <td>23596.0</td>\n",
       "      <td>74.0</td>\n",
       "      <td>14.0</td>\n",
       "    </tr>\n",
       "  </tbody>\n",
       "</table>\n",
       "</div>"
      ],
      "text/plain": [
       "       term  home_ownership  verification_status  purpose  loan_amnt  \\\n",
       "17098     1               0                    2        2    20000.0   \n",
       "26555     0               0                    2       11     6250.0   \n",
       "22050     0               0                    2        2    22000.0   \n",
       "2926      0               0                    2        2    15000.0   \n",
       "22864     1               0                    2        2    19500.0   \n",
       "\n",
       "       int_rate  installment  annual_inc    dti  delinq_2yrs  inq_last_6mths  \\\n",
       "17098    0.1936       522.79     55000.0  22.10          0.0             0.0   \n",
       "26555    0.0714       193.39     43000.0  12.89          0.0             1.0   \n",
       "22050    0.0617       670.98     90996.0  17.46          0.0             1.0   \n",
       "2926     0.1427       514.64     31200.0   5.54          0.0             0.0   \n",
       "22864    0.1706       485.26     53200.0  16.20          0.0             0.0   \n",
       "\n",
       "       open_acc  pub_rec  revol_bal  revol_util  total_acc  \n",
       "17098      25.0      0.0    20762.0        51.1       41.0  \n",
       "26555       7.0      0.0       41.0         0.2       53.0  \n",
       "22050      12.0      0.0    17888.0        32.3       30.0  \n",
       "2926        5.0      0.0     2373.0        23.1        7.0  \n",
       "22864       8.0      0.0    23596.0        74.0       14.0  "
      ]
     },
     "execution_count": 123,
     "metadata": {},
     "output_type": "execute_result"
    }
   ],
   "source": [
    "df_train.head()\n"
   ]
  },
  {
   "cell_type": "code",
   "execution_count": 146,
   "metadata": {},
   "outputs": [
    {
     "data": {
      "text/plain": [
       "(7948, 17)"
      ]
     },
     "execution_count": 146,
     "metadata": {},
     "output_type": "execute_result"
    }
   ],
   "source": [
    "test.shape"
   ]
  },
  {
   "cell_type": "code",
   "execution_count": 125,
   "metadata": {},
   "outputs": [
    {
     "name": "stdout",
     "output_type": "stream",
     "text": [
      "<class 'pandas.core.frame.DataFrame'>\n",
      "Int64Index: 31799 entries, 17098 to 255\n",
      "Data columns (total 17 columns):\n",
      "loan_amnt              31799 non-null float64\n",
      "term                   31799 non-null category\n",
      "int_rate               31799 non-null float64\n",
      "installment            31799 non-null float64\n",
      "home_ownership         31799 non-null category\n",
      "annual_inc             31799 non-null float64\n",
      "verification_status    31799 non-null category\n",
      "loan_status            31799 non-null int8\n",
      "purpose                31799 non-null category\n",
      "dti                    31799 non-null float64\n",
      "delinq_2yrs            31799 non-null float64\n",
      "inq_last_6mths         31799 non-null float64\n",
      "open_acc               31799 non-null float64\n",
      "pub_rec                31799 non-null float64\n",
      "revol_bal              31799 non-null float64\n",
      "revol_util             31760 non-null float64\n",
      "total_acc              31799 non-null float64\n",
      "dtypes: category(4), float64(12), int8(1)\n",
      "memory usage: 4.6 MB\n"
     ]
    }
   ],
   "source": [
    "train.info()"
   ]
  },
  {
   "cell_type": "code",
   "execution_count": 147,
   "metadata": {},
   "outputs": [
    {
     "data": {
      "text/plain": [
       "(7948, 1)"
      ]
     },
     "execution_count": 147,
     "metadata": {},
     "output_type": "execute_result"
    }
   ],
   "source": [
    "Y_train=train[['loan_status']]\n",
    "Y_test=test[['loan_status']]\n",
    "Y_test.shape"
   ]
  },
  {
   "cell_type": "code",
   "execution_count": 139,
   "metadata": {},
   "outputs": [
    {
     "data": {
      "text/plain": [
       "(31799, 16)"
      ]
     },
     "execution_count": 139,
     "metadata": {},
     "output_type": "execute_result"
    }
   ],
   "source": [
    "X_train_set=train.drop('loan_status',axis=1)\n",
    "X_test_set=test.drop('loan_status',axis=1)\n",
    "X_train_set.shape"
   ]
  },
  {
   "cell_type": "code",
   "execution_count": 128,
   "metadata": {},
   "outputs": [
    {
     "data": {
      "text/plain": [
       "term                    0\n",
       "home_ownership          0\n",
       "verification_status     0\n",
       "purpose                 0\n",
       "loan_amnt               0\n",
       "int_rate                0\n",
       "installment             0\n",
       "annual_inc              0\n",
       "dti                     0\n",
       "delinq_2yrs             0\n",
       "inq_last_6mths          0\n",
       "open_acc                0\n",
       "pub_rec                 0\n",
       "revol_bal               0\n",
       "revol_util             39\n",
       "total_acc               0\n",
       "dtype: int64"
      ]
     },
     "execution_count": 128,
     "metadata": {},
     "output_type": "execute_result"
    }
   ],
   "source": [
    "df_train.isnull().sum()"
   ]
  },
  {
   "cell_type": "code",
   "execution_count": 148,
   "metadata": {},
   "outputs": [
    {
     "data": {
      "text/plain": [
       "(7948, 16)"
      ]
     },
     "execution_count": 148,
     "metadata": {},
     "output_type": "execute_result"
    }
   ],
   "source": [
    "df_train.fillna(df_train.mean(), inplace=True)\n",
    "df_test.fillna(df_test.mean(),inplace=True)\n",
    "df_test.shape"
   ]
  },
  {
   "cell_type": "code",
   "execution_count": 130,
   "metadata": {},
   "outputs": [
    {
     "name": "stderr",
     "output_type": "stream",
     "text": [
      "C:\\Users\\User\\Anaconda3\\lib\\site-packages\\sklearn\\ensemble\\forest.py:248: FutureWarning: The default value of n_estimators will change from 10 in version 0.20 to 100 in 0.22.\n",
      "  \"10 in version 0.20 to 100 in 0.22.\", FutureWarning)\n",
      "C:\\Users\\User\\Anaconda3\\lib\\site-packages\\ipykernel_launcher.py:7: DataConversionWarning: A column-vector y was passed when a 1d array was expected. Please change the shape of y to (n_samples,), for example using ravel().\n",
      "  import sys\n",
      "C:\\Users\\User\\Anaconda3\\lib\\site-packages\\sklearn\\linear_model\\logistic.py:432: FutureWarning: Default solver will be changed to 'lbfgs' in 0.22. Specify a solver to silence this warning.\n",
      "  FutureWarning)\n",
      "C:\\Users\\User\\Anaconda3\\lib\\site-packages\\sklearn\\utils\\validation.py:752: DataConversionWarning: A column-vector y was passed when a 1d array was expected. Please change the shape of y to (n_samples, ), for example using ravel().\n",
      "  y = column_or_1d(y, warn=True)\n",
      "C:\\Users\\User\\Anaconda3\\lib\\site-packages\\sklearn\\linear_model\\logistic.py:1296: UserWarning: 'n_jobs' > 1 does not have any effect when 'solver' is set to 'liblinear'. Got 'n_jobs' = 2.\n",
      "  \" = {}.\".format(effective_n_jobs(self.n_jobs)))\n",
      "C:\\Users\\User\\Anaconda3\\lib\\site-packages\\sklearn\\utils\\validation.py:752: DataConversionWarning: A column-vector y was passed when a 1d array was expected. Please change the shape of y to (n_samples, ), for example using ravel().\n",
      "  y = column_or_1d(y, warn=True)\n",
      "C:\\Users\\User\\Anaconda3\\lib\\site-packages\\sklearn\\svm\\base.py:196: FutureWarning: The default value of gamma will change from 'auto' to 'scale' in version 0.22 to account better for unscaled features. Set gamma explicitly to 'auto' or 'scale' to avoid this warning.\n",
      "  \"avoid this warning.\", FutureWarning)\n"
     ]
    }
   ],
   "source": [
    "from sklearn.ensemble import RandomForestClassifier\n",
    "from sklearn.svm import SVC \n",
    "from sklearn.linear_model import LogisticRegression\n",
    "from sklearn import tree\n",
    "\n",
    "rfc = RandomForestClassifier(criterion='entropy',random_state=0);\n",
    "rfc.fit(df_train,Y_train)\n",
    "lgrc = LogisticRegression(n_jobs=-1, random_state=0)\n",
    "lgrc.fit(df_train, Y_train);\n",
    "svc = SVC(random_state=0)\n",
    "svc.fit(df_train, Y_train)\n",
    "y_pred_rfc=rfc.predict(df_train)\n",
    "y_pred_svc=svc.predict(df_train)\n",
    "y_pred_lgrc=lgrc.predict(df_train)"
   ]
  },
  {
   "cell_type": "code",
   "execution_count": 52,
   "metadata": {},
   "outputs": [
    {
     "data": {
      "text/plain": [
       "array([1, 0, 1, ..., 1, 1, 1], dtype=int8)"
      ]
     },
     "execution_count": 52,
     "metadata": {},
     "output_type": "execute_result"
    }
   ],
   "source": [
    "y_pred_rfc"
   ]
  },
  {
   "cell_type": "code",
   "execution_count": 155,
   "metadata": {},
   "outputs": [
    {
     "name": "stdout",
     "output_type": "stream",
     "text": [
      "=========== Random Forest Model Evaluation ==========\n",
      "\n",
      "Model Accuracy:\n",
      " 0.8336688475088072\n",
      "\n",
      "Classification report:\n",
      "\n",
      "               precision    recall  f1-score   support\n",
      "\n",
      "           0       0.28      0.09      0.13      1165\n",
      "           1       0.86      0.96      0.91      6783\n",
      "\n",
      "   micro avg       0.83      0.83      0.83      7948\n",
      "   macro avg       0.57      0.52      0.52      7948\n",
      "weighted avg       0.78      0.83      0.79      7948\n",
      "\n",
      "\n",
      "Confusion matrix:\n",
      " [[ 101 1064]\n",
      " [ 258 6525]]\n",
      "\n"
     ]
    }
   ],
   "source": [
    "from sklearn import metrics\n",
    "accuracy = metrics.accuracy_score(Y_test, rfc.predict(df_test))\n",
    "confusion_matrix = metrics.confusion_matrix(Y_test, rfc.predict(df_test))\n",
    "print('=========== Random Forest Model Evaluation ==========')\n",
    "print()\n",
    "classification = metrics.classification_report(Y_test, rfc.predict(df_test))\n",
    "print(\"Model Accuracy:\" \"\\n\", accuracy)\n",
    "print()\n",
    "print(\"Classification report:\" \"\\n\\n\",classification)\n",
    "print()\n",
    "print(\"Confusion matrix:\" \"\\n\", confusion_matrix)\n",
    "print()"
   ]
  },
  {
   "cell_type": "code",
   "execution_count": 166,
   "metadata": {},
   "outputs": [
    {
     "name": "stdout",
     "output_type": "stream",
     "text": [
      "0.8624074074074074\n",
      "0.8631138975966562\n"
     ]
    }
   ],
   "source": [
    "predictions = pd.Series(y_pred_rfc)\n",
    "\n",
    "false_positive_filter = (predictions == 1) & (test['loan_status'] == 0)\n",
    "false_positive = len(predictions[false_positive_filter])\n",
    "\n",
    "true_positive_filter = (predictions == 1) & (test['loan_status'] == 1)\n",
    "true_positive = len(predictions[true_positive_filter])\n",
    "\n",
    "false_negative_filter = (predictions == 0) & (test['loan_status'] == 1)\n",
    "false_negative = len(predictions[false_negative_filter])\n",
    "\n",
    "true_negative_filter = (predictions == 0) & (test['loan_status'] == 0)\n",
    "true_negative = len(predictions[true_negative_filter])\n",
    "\n",
    "true_positive_rate = true_positive / (true_positive + false_negative)\n",
    "false_positive_rate = false_positive / (false_positive + true_negative)\n",
    "\n",
    "print(float(true_positive_rate)) \n",
    "print(float(false_positive_rate))\n"
   ]
  },
  {
   "cell_type": "code",
   "execution_count": 167,
   "metadata": {},
   "outputs": [
    {
     "data": {
      "text/plain": [
       "0.8493525442276126"
      ]
     },
     "execution_count": 167,
     "metadata": {},
     "output_type": "execute_result"
    }
   ],
   "source": [
    "precision = float(true_positive)/float(true_positive + false_positive)\n",
    "precision"
   ]
  },
  {
   "cell_type": "code",
   "execution_count": 168,
   "metadata": {},
   "outputs": [
    {
     "data": {
      "image/png": "[encoded data removed]",
      "text/plain": [
       "<Figure size 432x432 with 1 Axes>"
      ]
     },
     "metadata": {},
     "output_type": "display_data"
    }
   ],
   "source": [
    "labels = 'False Positive', 'True Positive'\n",
    "sizes = [1-precision, precision]\n",
    "colors = ['lightcoral', 'lightblue'] \n",
    "# Plot\n",
    "plt.figure(figsize=(6,6))\n",
    "plt.pie(sizes, colors=colors, autopct='%1.2f%%')\n",
    "plt.title('Precision of Random Forest', fontsize=15) \n",
    "plt.legend(labels, loc='lower left', fontsize=12)\n",
    "plt.show()"
   ]
  },
  {
   "cell_type": "code",
   "execution_count": 173,
   "metadata": {},
   "outputs": [
    {
     "name": "stdout",
     "output_type": "stream",
     "text": [
      "=========== SVM Model Evaluation ==========\n",
      "Model Accuracy:\n",
      " 0.853422244589834\n",
      "\n",
      "Confusion matrix:\n",
      " [[   0 1165]\n",
      " [   0 6783]]\n",
      "\n",
      "Classification report:\n",
      "\n",
      "               precision    recall  f1-score   support\n",
      "\n",
      "           0       0.00      0.00      0.00      1165\n",
      "           1       0.85      1.00      0.92      6783\n",
      "\n",
      "   micro avg       0.85      0.85      0.85      7948\n",
      "   macro avg       0.43      0.50      0.46      7948\n",
      "weighted avg       0.73      0.85      0.79      7948\n",
      "\n"
     ]
    },
    {
     "name": "stderr",
     "output_type": "stream",
     "text": [
      "C:\\Users\\User\\Anaconda3\\lib\\site-packages\\sklearn\\metrics\\classification.py:1143: UndefinedMetricWarning: Precision and F-score are ill-defined and being set to 0.0 in labels with no predicted samples.\n",
      "  'precision', 'predicted', average, warn_for)\n",
      "C:\\Users\\User\\Anaconda3\\lib\\site-packages\\sklearn\\metrics\\classification.py:1143: UndefinedMetricWarning: Precision and F-score are ill-defined and being set to 0.0 in labels with no predicted samples.\n",
      "  'precision', 'predicted', average, warn_for)\n",
      "C:\\Users\\User\\Anaconda3\\lib\\site-packages\\sklearn\\metrics\\classification.py:1143: UndefinedMetricWarning: Precision and F-score are ill-defined and being set to 0.0 in labels with no predicted samples.\n",
      "  'precision', 'predicted', average, warn_for)\n"
     ]
    }
   ],
   "source": [
    "from sklearn import metrics\n",
    "\n",
    "print('=========== SVM Model Evaluation ==========')\n",
    "accuracy = metrics.accuracy_score(Y_test, svc.predict(df_test))\n",
    "confusion_matrix = metrics.confusion_matrix(Y_test, svc.predict(df_test))\n",
    "print(\"Model Accuracy:\" \"\\n\", accuracy)\n",
    "print()\n",
    "print(\"Confusion matrix:\" \"\\n\", confusion_matrix)\n",
    "print()\n",
    "classification = metrics.classification_report(Y_test, svc.predict(df_test))\n",
    "print(\"Classification report:\" \"\\n\",classification)\n",
    "\n",
    "\n"
   ]
  },
  {
   "cell_type": "code",
   "execution_count": 169,
   "metadata": {},
   "outputs": [
    {
     "name": "stdout",
     "output_type": "stream",
     "text": [
      "0.8561111111111112\n",
      "0.8589341692789969\n"
     ]
    }
   ],
   "source": [
    "predictions = pd.Series(y_pred_svc)\n",
    "\n",
    "false_positive_filter = (predictions == 1) & (test['loan_status'] == 0)\n",
    "false_positive = len(predictions[false_positive_filter])\n",
    "\n",
    "true_positive_filter = (predictions == 1) & (test['loan_status'] == 1)\n",
    "true_positive = len(predictions[true_positive_filter])\n",
    "\n",
    "false_negative_filter = (predictions == 0) & (test['loan_status'] == 1)\n",
    "false_negative = len(predictions[false_negative_filter])\n",
    "\n",
    "true_negative_filter = (predictions == 0) & (test['loan_status'] == 0)\n",
    "true_negative = len(predictions[true_negative_filter])\n",
    "\n",
    "true_positive_rate = true_positive / (true_positive + false_negative)\n",
    "false_positive_rate = false_positive / (false_positive + true_negative)\n",
    "\n",
    "print(float(true_positive_rate)) \n",
    "print(float(false_positive_rate))"
   ]
  },
  {
   "cell_type": "code",
   "execution_count": 170,
   "metadata": {},
   "outputs": [
    {
     "data": {
      "text/plain": [
       "0.8490358126721763"
      ]
     },
     "execution_count": 170,
     "metadata": {},
     "output_type": "execute_result"
    }
   ],
   "source": [
    "precision = float(true_positive)/float(true_positive + false_positive)\n",
    "precision"
   ]
  },
  {
   "cell_type": "code",
   "execution_count": 172,
   "metadata": {},
   "outputs": [
    {
     "data": {
      "image/png": "[encoded data removed]",
      "text/plain": [
       "<Figure size 432x432 with 1 Axes>"
      ]
     },
     "metadata": {},
     "output_type": "display_data"
    }
   ],
   "source": [
    "labels = 'False Positive', 'True Positive'\n",
    "sizes = [1-precision, precision]\n",
    "colors = ['lightcoral', 'lightblue'] \n",
    "# Plot\n",
    "plt.figure(figsize=(6,6))\n",
    "plt.pie(sizes, colors=colors, autopct='%1.2f%%')\n",
    "plt.title('Precision of SVM Classifier', fontsize=15) \n",
    "plt.legend(labels, loc='lower left', fontsize=12)\n",
    "plt.show()"
   ]
  },
  {
   "cell_type": "code",
   "execution_count": 177,
   "metadata": {},
   "outputs": [
    {
     "name": "stdout",
     "output_type": "stream",
     "text": [
      "=========== Logistic Regression Model Evaluation ==========\n",
      "\n",
      "Model Accuracy:\n",
      " 0.8530447911424258\n",
      "\n",
      "Confusion matrix:\n",
      " [[   2 1163]\n",
      " [   5 6778]]\n",
      "\n",
      "Classification report:\n",
      "\n",
      "               precision    recall  f1-score   support\n",
      "\n",
      "           0       0.29      0.00      0.00      1165\n",
      "           1       0.85      1.00      0.92      6783\n",
      "\n",
      "   micro avg       0.85      0.85      0.85      7948\n",
      "   macro avg       0.57      0.50      0.46      7948\n",
      "weighted avg       0.77      0.85      0.79      7948\n",
      "\n"
     ]
    }
   ],
   "source": [
    "print('=========== Logistic Regression Model Evaluation ==========')\n",
    "print()\n",
    "accuracy = metrics.accuracy_score(Y_test, lgrc.predict(df_test))\n",
    "confusion_matrix = metrics.confusion_matrix(Y_test, lgrc.predict(df_test))\n",
    "print(\"Model Accuracy:\" \"\\n\", accuracy)\n",
    "print()\n",
    "print(\"Confusion matrix:\" \"\\n\", confusion_matrix)\n",
    "print()\n",
    "classification = metrics.classification_report(Y_test, lgrc.predict(df_test))\n",
    "print(\"Classification report:\" \"\\n\\n\",classification)\n"
   ]
  },
  {
   "cell_type": "code",
   "execution_count": 179,
   "metadata": {},
   "outputs": [
    {
     "name": "stdout",
     "output_type": "stream",
     "text": [
      "0.9990740740740741\n",
      "0.9968652037617555\n"
     ]
    }
   ],
   "source": [
    "predictions = pd.Series(y_pred_lgrc)\n",
    "\n",
    "false_positive_filter = (predictions == 1) & (test['loan_status'] == 0)\n",
    "false_positive = len(predictions[false_positive_filter])\n",
    "\n",
    "true_positive_filter = (predictions == 1) & (test['loan_status'] == 1)\n",
    "true_positive = len(predictions[true_positive_filter])\n",
    "\n",
    "false_negative_filter = (predictions == 0) & (test['loan_status'] == 1)\n",
    "false_negative = len(predictions[false_negative_filter])\n",
    "\n",
    "true_negative_filter = (predictions == 0) & (test['loan_status'] == 0)\n",
    "true_negative = len(predictions[true_negative_filter])\n",
    "\n",
    "true_positive_rate = true_positive / (true_positive + false_negative)\n",
    "false_positive_rate = false_positive / (false_positive + true_negative)\n",
    "\n",
    "print(float(true_positive_rate)) \n",
    "print(float(false_positive_rate))"
   ]
  },
  {
   "cell_type": "code",
   "execution_count": 180,
   "metadata": {},
   "outputs": [
    {
     "data": {
      "text/plain": [
       "0.849740116553788"
      ]
     },
     "execution_count": 180,
     "metadata": {},
     "output_type": "execute_result"
    }
   ],
   "source": [
    "precision = float(true_positive)/float(true_positive + false_positive)\n",
    "precision"
   ]
  },
  {
   "cell_type": "code",
   "execution_count": 181,
   "metadata": {},
   "outputs": [
    {
     "data": {
      "image/png": "[encoded data removed]",
      "text/plain": [
       "<Figure size 432x432 with 1 Axes>"
      ]
     },
     "metadata": {},
     "output_type": "display_data"
    }
   ],
   "source": [
    "labels = 'False Positive', 'True Positive'\n",
    "sizes = [1-precision, precision]\n",
    "colors = ['lightcoral', 'lightblue'] \n",
    "# Plot\n",
    "plt.figure(figsize=(6,6))\n",
    "plt.pie(sizes, colors=colors, autopct='%1.2f%%')\n",
    "plt.title('Precision of Logistic Regression ', fontsize=15) \n",
    "plt.legend(labels, loc='lower left', fontsize=12)\n",
    "plt.show()"
   ]
  },
  {
   "cell_type": "code",
   "execution_count": null,
   "metadata": {},
   "outputs": [],
   "source": []
  }
 ],
 "metadata": {
  "kernelspec": {
   "display_name": "Python 3",
   "language": "python",
   "name": "python3"
  },
  "language_info": {
   "codemirror_mode": {
    "name": "ipython",
    "version": 3
   },
   "file_extension": ".py",
   "mimetype": "text/x-python",
   "name": "python",
   "nbconvert_exporter": "python",
   "pygments_lexer": "ipython3",
   "version": "3.7.0"
  }
 },
 "nbformat": 4,
 "nbformat_minor": 2
}
